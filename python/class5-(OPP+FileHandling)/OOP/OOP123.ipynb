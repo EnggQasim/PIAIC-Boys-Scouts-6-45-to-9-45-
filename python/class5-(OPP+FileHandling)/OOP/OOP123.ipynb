{
 "cells": [
  {
   "cell_type": "code",
   "execution_count": 33,
   "metadata": {},
   "outputs": [],
   "source": [
    "class Man():\n",
    "    \n",
    "    center = \"Saylani Head Office\" #class Variable\n",
    "    counter = 0\n",
    "    \n",
    "    def __init__(self, name, fname, qualification): #constructor\n",
    "        self.name = name\n",
    "        self.fname = fname\n",
    "        self.qualification = qualification\n",
    "        self.course = \"A.I\"\n",
    "        Man.counter += 1\n",
    "\n",
    "        \n",
    "    def speak(self, words=\"Hello\"):\n",
    "        print(words)\n",
    "        \n",
    "    def eating(self, bread=\"Roti\"):\n",
    "        print(bread)\n",
    "    \n",
    "    def sleeping(self, snooring=\"Khaa.khaa!\"):\n",
    "        print(snooring)\n",
    "        \n",
    "    def update(self, name):\n",
    "        self.name = name"
   ]
  },
  {
   "cell_type": "code",
   "execution_count": 34,
   "metadata": {},
   "outputs": [],
   "source": [
    "obj1 = Man(\"Qasim\",\"Aslam\",\"BSCS\")\n",
    "obj2 = Man(\"Mansoor\",\"Manzoor\",\"PHD\")\n",
    "obj3 = Man(\"Waqas\",\"Munawar\",\"ACMA\")"
   ]
  },
  {
   "cell_type": "code",
   "execution_count": 35,
   "metadata": {},
   "outputs": [
    {
     "name": "stdout",
     "output_type": "stream",
     "text": [
      "Qasim\n",
      "Mansoor\n",
      "Waqas\n"
     ]
    }
   ],
   "source": [
    "print(obj1.name)\n",
    "print(obj2.name)\n",
    "print(obj3.name)"
   ]
  },
  {
   "cell_type": "code",
   "execution_count": 36,
   "metadata": {},
   "outputs": [
    {
     "name": "stdout",
     "output_type": "stream",
     "text": [
      "Saylani Head Office\n",
      "3\n"
     ]
    }
   ],
   "source": [
    "print(Man.center)\n",
    "print(Man.counter)"
   ]
  },
  {
   "cell_type": "code",
   "execution_count": 37,
   "metadata": {},
   "outputs": [
    {
     "data": {
      "text/plain": [
       "'Ali'"
      ]
     },
     "execution_count": 37,
     "metadata": {},
     "output_type": "execute_result"
    }
   ],
   "source": [
    "obj1.update(\"Ali\")\n",
    "obj1.name"
   ]
  },
  {
   "cell_type": "code",
   "execution_count": 38,
   "metadata": {},
   "outputs": [
    {
     "data": {
      "text/plain": [
       "'Matric'"
      ]
     },
     "execution_count": 38,
     "metadata": {},
     "output_type": "execute_result"
    }
   ],
   "source": [
    "obj1.qualification = \"Matric\"\n",
    "obj1.qualification"
   ]
  },
  {
   "cell_type": "code",
   "execution_count": 39,
   "metadata": {},
   "outputs": [
    {
     "data": {
      "text/plain": [
       "'A.I'"
      ]
     },
     "execution_count": 39,
     "metadata": {},
     "output_type": "execute_result"
    }
   ],
   "source": [
    "obj1.course"
   ]
  },
  {
   "cell_type": "code",
   "execution_count": 40,
   "metadata": {},
   "outputs": [
    {
     "name": "stdout",
     "output_type": "stream",
     "text": [
      "Hello\n"
     ]
    }
   ],
   "source": [
    "obj1.speak()"
   ]
  },
  {
   "cell_type": "code",
   "execution_count": 41,
   "metadata": {},
   "outputs": [
    {
     "name": "stdout",
     "output_type": "stream",
     "text": [
      "Pakistan zinda bad!\n"
     ]
    }
   ],
   "source": [
    "obj1.speak(\"Pakistan zinda bad!\")"
   ]
  },
  {
   "cell_type": "markdown",
   "metadata": {},
   "source": [
    "# Inheritance"
   ]
  },
  {
   "cell_type": "code",
   "execution_count": 44,
   "metadata": {},
   "outputs": [],
   "source": [
    "class Baba(Man):\n",
    "    \n",
    "    def watching(self, watching=\"TV\"):\n",
    "        print(watching)"
   ]
  },
  {
   "cell_type": "code",
   "execution_count": 45,
   "metadata": {},
   "outputs": [],
   "source": [
    "ob1 = Baba('ali','haider','Nursary')\n"
   ]
  },
  {
   "cell_type": "code",
   "execution_count": 46,
   "metadata": {},
   "outputs": [
    {
     "name": "stdout",
     "output_type": "stream",
     "text": [
      "TV\n"
     ]
    }
   ],
   "source": [
    "ob1.watching()"
   ]
  },
  {
   "cell_type": "code",
   "execution_count": null,
   "metadata": {},
   "outputs": [],
   "source": [
    "obj1."
   ]
  }
 ],
 "metadata": {
  "kernelspec": {
   "display_name": "Python 3",
   "language": "python",
   "name": "python3"
  },
  "language_info": {
   "codemirror_mode": {
    "name": "ipython",
    "version": 3
   },
   "file_extension": ".py",
   "mimetype": "text/x-python",
   "name": "python",
   "nbconvert_exporter": "python",
   "pygments_lexer": "ipython3",
   "version": "3.7.1"
  }
 },
 "nbformat": 4,
 "nbformat_minor": 2
}
