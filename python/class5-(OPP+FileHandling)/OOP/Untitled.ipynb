{
 "cells": [
  {
   "cell_type": "code",
   "execution_count": 13,
   "metadata": {},
   "outputs": [],
   "source": [
    "class Man():\n",
    "    \n",
    "    counter = 0\n",
    "    \n",
    "    def __init__(self, name, fname, qualifiction): #constructor\n",
    "        self.name = name # attributes / properties\n",
    "        self.fname = fname# attributes / properties\n",
    "        self.qualifiction = qualifiction# attributes / properties\n",
    "        Man.counter += 1\n",
    "        print(\"Total Members \", Man.counter)\n",
    "       \n",
    "    def sleeping(self, snooring=\"Khhahaha!\"): #methods\n",
    "        print(snooring)\n",
    "        \n",
    "    def eating(self, bread=\"Roti\"): #methods\n",
    "        print(bread)\n",
    "    \n",
    "    def walking(self, speed=\"20KM/H\"): #methods\n",
    "        print(speed)\n",
    "        \n",
    "    def watching(self, watch=\"TV\"):\n",
    "        print(watch)\n",
    "    "
   ]
  },
  {
   "cell_type": "code",
   "execution_count": 14,
   "metadata": {},
   "outputs": [
    {
     "name": "stdout",
     "output_type": "stream",
     "text": [
      "Total Members  1\n",
      "Total Members  2\n",
      "Total Members  3\n"
     ]
    }
   ],
   "source": [
    "obj1 = Man(\"Qasim\", \"Aslam\",\"MS\")\n",
    "obj2 = Man(\"Mansoor\",\"Manzoor\",\"BE\")\n",
    "obj3 = Man(\"Hamza\",\"Munawar\",\"BE\")"
   ]
  },
  {
   "cell_type": "code",
   "execution_count": 15,
   "metadata": {},
   "outputs": [
    {
     "data": {
      "text/plain": [
       "3"
      ]
     },
     "execution_count": 15,
     "metadata": {},
     "output_type": "execute_result"
    }
   ],
   "source": [
    "Man.counter"
   ]
  },
  {
   "cell_type": "code",
   "execution_count": 3,
   "metadata": {},
   "outputs": [
    {
     "name": "stdout",
     "output_type": "stream",
     "text": [
      "Qasim\n",
      "Mansoor\n",
      "Hamza\n"
     ]
    }
   ],
   "source": [
    "print(obj1.name)\n",
    "print(obj2.name)\n",
    "print(obj3.name)"
   ]
  },
  {
   "cell_type": "code",
   "execution_count": 4,
   "metadata": {},
   "outputs": [
    {
     "name": "stdout",
     "output_type": "stream",
     "text": [
      "Roti\n"
     ]
    }
   ],
   "source": [
    "obj1.eating()"
   ]
  },
  {
   "cell_type": "code",
   "execution_count": 5,
   "metadata": {},
   "outputs": [
    {
     "name": "stdout",
     "output_type": "stream",
     "text": [
      "Botti\n"
     ]
    }
   ],
   "source": [
    "obj1.eating(\"Botti\")"
   ]
  },
  {
   "cell_type": "code",
   "execution_count": 10,
   "metadata": {},
   "outputs": [
    {
     "name": "stdout",
     "output_type": "stream",
     "text": [
      "TV\n"
     ]
    }
   ],
   "source": [
    "obj3.watching()"
   ]
  },
  {
   "cell_type": "code",
   "execution_count": 11,
   "metadata": {},
   "outputs": [],
   "source": [
    "class Baba(Man):\n",
    "    pass"
   ]
  },
  {
   "cell_type": "code",
   "execution_count": 12,
   "metadata": {},
   "outputs": [],
   "source": [
    "obj4 = Baba(\"Ali\",\"Hamza\",\"ABC\")"
   ]
  },
  {
   "cell_type": "code",
   "execution_count": 1,
   "metadata": {},
   "outputs": [],
   "source": [
    "from abc import ABC, abstractmethod\n",
    "\n",
    "class Human(ABC):\n",
    "    def __init__(self, name, fname):\n",
    "        self.name = name\n",
    "        self.fname = fname\n",
    "        \n",
    "    @abstractmethod\n",
    "    def making_noise(self, words=\"Hahhaha\"):\n",
    "        print(words)\n",
    "        \n",
    "\n",
    "class Male(Human):\n",
    "    def __init__(self, name, fname):\n",
    "        self.name = name\n",
    "        self.fname = fname\n",
    "        "
   ]
  },
  {
   "cell_type": "code",
   "execution_count": 3,
   "metadata": {},
   "outputs": [
    {
     "ename": "TypeError",
     "evalue": "Can't instantiate abstract class Male with abstract methods making_noise",
     "output_type": "error",
     "traceback": [
      "\u001b[0;31m---------------------------------------------------------------------------\u001b[0m",
      "\u001b[0;31mTypeError\u001b[0m                                 Traceback (most recent call last)",
      "\u001b[0;32m<ipython-input-3-7a11066ba027>\u001b[0m in \u001b[0;36m<module>\u001b[0;34m\u001b[0m\n\u001b[1;32m      1\u001b[0m \u001b[0;34m\u001b[0m\u001b[0m\n\u001b[1;32m      2\u001b[0m \u001b[0;31m#a = Human('a','b')\u001b[0m\u001b[0;34m\u001b[0m\u001b[0;34m\u001b[0m\u001b[0;34m\u001b[0m\u001b[0m\n\u001b[0;32m----> 3\u001b[0;31m \u001b[0mb\u001b[0m \u001b[0;34m=\u001b[0m \u001b[0mMale\u001b[0m\u001b[0;34m(\u001b[0m\u001b[0;34m'a'\u001b[0m\u001b[0;34m,\u001b[0m\u001b[0;34m'b'\u001b[0m\u001b[0;34m)\u001b[0m\u001b[0;34m\u001b[0m\u001b[0;34m\u001b[0m\u001b[0m\n\u001b[0m",
      "\u001b[0;31mTypeError\u001b[0m: Can't instantiate abstract class Male with abstract methods making_noise"
     ]
    }
   ],
   "source": [
    "\n",
    "#a = Human('a','b')\n",
    "b = Male('a','b')"
   ]
  },
  {
   "cell_type": "code",
   "execution_count": null,
   "metadata": {},
   "outputs": [],
   "source": [
    "git add .\n",
    "git commit -m \"Object oriented programming\"\n",
    "git push origin master"
   ]
  }
 ],
 "metadata": {
  "kernelspec": {
   "display_name": "Python 3",
   "language": "python",
   "name": "python3"
  },
  "language_info": {
   "codemirror_mode": {
    "name": "ipython",
    "version": 3
   },
   "file_extension": ".py",
   "mimetype": "text/x-python",
   "name": "python",
   "nbconvert_exporter": "python",
   "pygments_lexer": "ipython3",
   "version": "3.7.1"
  }
 },
 "nbformat": 4,
 "nbformat_minor": 2
}
