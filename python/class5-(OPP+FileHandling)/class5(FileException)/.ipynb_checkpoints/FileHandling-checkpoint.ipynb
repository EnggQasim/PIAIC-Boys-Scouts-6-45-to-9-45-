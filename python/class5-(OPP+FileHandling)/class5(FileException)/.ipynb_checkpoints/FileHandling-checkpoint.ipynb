{
 "cells": [
  {
   "cell_type": "code",
   "execution_count": 1,
   "metadata": {},
   "outputs": [
    {
     "data": {
      "text/plain": [
       "<_io.TextIOWrapper name='filereadwrite/demo.txt' mode='r' encoding='UTF-8'>"
      ]
     },
     "execution_count": 1,
     "metadata": {},
     "output_type": "execute_result"
    }
   ],
   "source": [
    "open('filereadwrite/demo.txt')\n",
    "\n"
   ]
  },
  {
   "cell_type": "code",
   "execution_count": 2,
   "metadata": {},
   "outputs": [
    {
     "data": {
      "text/plain": [
       "'Hello World 1\\nHello World 2\\nHello World 3\\nHello World 4\\nHello World 5\\nHello World 6\\n'"
      ]
     },
     "execution_count": 2,
     "metadata": {},
     "output_type": "execute_result"
    }
   ],
   "source": [
    "data = open('filereadwrite/demo.txt')\n",
    "data.read()"
   ]
  },
  {
   "cell_type": "code",
   "execution_count": 3,
   "metadata": {},
   "outputs": [
    {
     "name": "stdout",
     "output_type": "stream",
     "text": [
      "Hello World 1\n",
      "Hello World 2\n",
      "Hello World 3\n",
      "Hello World 4\n",
      "Hello World 5\n",
      "Hello World 6\n",
      "\n"
     ]
    }
   ],
   "source": [
    "data = open('filereadwrite/demo.txt')\n",
    "print(data.read())\n",
    "data.close()"
   ]
  },
  {
   "cell_type": "code",
   "execution_count": null,
   "metadata": {},
   "outputs": [],
   "source": []
  },
  {
   "cell_type": "code",
   "execution_count": 4,
   "metadata": {},
   "outputs": [
    {
     "name": "stdout",
     "output_type": "stream",
     "text": [
      "Hello World 1\n",
      "Hello World 2\n",
      "Hello World 3\n",
      "Hello World 4\n",
      "Hello World 5\n",
      "Hello World 6\n",
      "\n"
     ]
    }
   ],
   "source": [
    "# %load filereadwrite/file1.py\n",
    "with open('filereadwrite/demo.txt') as fileObj:\n",
    "    content = fileObj.read()\n",
    "    print(content)\n",
    "    "
   ]
  },
  {
   "cell_type": "code",
   "execution_count": 5,
   "metadata": {},
   "outputs": [
    {
     "name": "stdout",
     "output_type": "stream",
     "text": [
      "Hello World 1\n",
      "\n",
      "Hello World 2\n",
      "\n",
      "Hello World 3\n",
      "\n",
      "Hello World 4\n",
      "\n",
      "Hello World 5\n",
      "\n",
      "Hello World 6\n",
      "\n"
     ]
    }
   ],
   "source": [
    "# %load filereadwrite/file2.py\n",
    "with open('filereadwrite/demo.txt') as fileObj:\n",
    "    for line in fileObj:\n",
    "        print(line)"
   ]
  },
  {
   "cell_type": "code",
   "execution_count": 6,
   "metadata": {
    "scrolled": true
   },
   "outputs": [
    {
     "name": "stdout",
     "output_type": "stream",
     "text": [
      "['Hello World 1\\n', 'Hello World 2\\n', 'Hello World 3\\n', 'Hello World 4\\n', 'Hello World 5\\n', 'Hello World 6\\n']\n"
     ]
    }
   ],
   "source": [
    "# %load filereadwrite/file3.py\n",
    "with open('filereadwrite/demo.txt') as fileObj:\n",
    "    lines = fileObj.readlines()\n",
    "    print(lines)"
   ]
  },
  {
   "cell_type": "code",
   "execution_count": 7,
   "metadata": {},
   "outputs": [
    {
     "name": "stdout",
     "output_type": "stream",
     "text": [
      "['hello', 'test', 'Hello World 1\\n', 'Hello World 2\\n', 'Hello World 3\\n', 'Hello World 4\\n', 'Hello World 5\\n', 'Hello World 6\\n']\n"
     ]
    }
   ],
   "source": [
    "# %load filereadwrite/file4.py\n",
    "mylist = [\"hello\",\"test\"]\n",
    "with open('filereadwrite/demo.txt', mode='r') as fileObj:\n",
    "    lines = fileObj.readlines()\n",
    "    mylist  = mylist + lines\n",
    "    print(mylist)"
   ]
  },
  {
   "cell_type": "code",
   "execution_count": 10,
   "metadata": {},
   "outputs": [],
   "source": [
    "# %load filereadwrite/file5.py\n",
    "\n",
    "with open('filereadwrite/demo1.txt','w') as fileObj:\n",
    "    fileObj.write(\"PIAIC Saylani\")"
   ]
  },
  {
   "cell_type": "code",
   "execution_count": 12,
   "metadata": {},
   "outputs": [
    {
     "ename": "FileExistsError",
     "evalue": "[Errno 17] File exists: 'filereadwrite/demo3.txt'",
     "output_type": "error",
     "traceback": [
      "\u001b[0;31m---------------------------------------------------------------------------\u001b[0m",
      "\u001b[0;31mFileExistsError\u001b[0m                           Traceback (most recent call last)",
      "\u001b[0;32m<ipython-input-12-1ff5087262f2>\u001b[0m in \u001b[0;36m<module>\u001b[0;34m\u001b[0m\n\u001b[1;32m      1\u001b[0m \u001b[0;31m# %load filereadwrite/file5.py\u001b[0m\u001b[0;34m\u001b[0m\u001b[0;34m\u001b[0m\u001b[0;34m\u001b[0m\u001b[0m\n\u001b[1;32m      2\u001b[0m \u001b[0;34m\u001b[0m\u001b[0m\n\u001b[0;32m----> 3\u001b[0;31m \u001b[0;32mwith\u001b[0m \u001b[0mopen\u001b[0m\u001b[0;34m(\u001b[0m\u001b[0;34m'filereadwrite/demo3.txt'\u001b[0m\u001b[0;34m,\u001b[0m\u001b[0;34m'x'\u001b[0m\u001b[0;34m)\u001b[0m \u001b[0;32mas\u001b[0m \u001b[0mfileObj\u001b[0m\u001b[0;34m:\u001b[0m\u001b[0;34m\u001b[0m\u001b[0;34m\u001b[0m\u001b[0m\n\u001b[0m\u001b[1;32m      4\u001b[0m     \u001b[0mfileObj\u001b[0m\u001b[0;34m.\u001b[0m\u001b[0mwrite\u001b[0m\u001b[0;34m(\u001b[0m\u001b[0;34m\"PIAIC Saylanijas df\"\u001b[0m\u001b[0;34m)\u001b[0m\u001b[0;34m\u001b[0m\u001b[0;34m\u001b[0m\u001b[0m\n",
      "\u001b[0;31mFileExistsError\u001b[0m: [Errno 17] File exists: 'filereadwrite/demo3.txt'"
     ]
    }
   ],
   "source": [
    "# %load filereadwrite/file5.py\n",
    "\n",
    "with open('filereadwrite/demo3.txt','x') as fileObj:\n",
    "    fileObj.write(\"PIAIC Saylanijas df\")"
   ]
  },
  {
   "cell_type": "code",
   "execution_count": 13,
   "metadata": {},
   "outputs": [],
   "source": [
    "# %load filereadwrite/file6.py\n",
    "\n",
    "with open('filereadwrite/demo2.txt','a') as fileObj:\n",
    "    fileObj.write(\"I love programming and Saylani!\\n\")\n",
    "    #content = fileObj.read()\n",
    "    #print(content)"
   ]
  },
  {
   "cell_type": "code",
   "execution_count": null,
   "metadata": {},
   "outputs": [],
   "source": [
    "# %load filereadwrite/file7.py\n",
    "\n",
    "with open('filereadwrite/demo.txt','r+') as fileObj:\n",
    "    fileObj.write(\"I love programming3!\\n\")\n",
    "\n",
    "  \n",
    "    content = fileObj.readlines()\n",
    "    print(content)\n",
    "\n"
   ]
  },
  {
   "cell_type": "code",
   "execution_count": null,
   "metadata": {},
   "outputs": [],
   "source": [
    "# %load filereadwrite/file8.py\n",
    "\n",
    "\n",
    "\n",
    "\n",
    "\n",
    "print(p)\n",
    "print(p1)\n",
    "print(dirList)"
   ]
  },
  {
   "cell_type": "code",
   "execution_count": null,
   "metadata": {},
   "outputs": [],
   "source": [
    "import  os;\n",
    "p = os.path.isfile(\"filereadwrite/demo.txt\")\n",
    "p"
   ]
  },
  {
   "cell_type": "code",
   "execution_count": null,
   "metadata": {},
   "outputs": [],
   "source": [
    "p1 = os.path.isdir(\"filereadwrite/\")\n",
    "p1"
   ]
  },
  {
   "cell_type": "code",
   "execution_count": null,
   "metadata": {},
   "outputs": [],
   "source": [
    "dirList = os.listdir(\"filereadwrite/\")\n",
    "dirList"
   ]
  },
  {
   "cell_type": "code",
   "execution_count": null,
   "metadata": {},
   "outputs": [],
   "source": [
    "os."
   ]
  },
  {
   "cell_type": "code",
   "execution_count": null,
   "metadata": {},
   "outputs": [],
   "source": [
    "a=\"pakistan zinda bad\""
   ]
  },
  {
   "cell_type": "code",
   "execution_count": null,
   "metadata": {},
   "outputs": [],
   "source": [
    "a.capitalize()"
   ]
  },
  {
   "cell_type": "code",
   "execution_count": null,
   "metadata": {},
   "outputs": [],
   "source": [
    "a.lower()"
   ]
  },
  {
   "cell_type": "code",
   "execution_count": null,
   "metadata": {},
   "outputs": [],
   "source": [
    "a.upper()"
   ]
  },
  {
   "cell_type": "code",
   "execution_count": null,
   "metadata": {},
   "outputs": [],
   "source": []
  }
 ],
 "metadata": {
  "kernelspec": {
   "display_name": "Python 3",
   "language": "python",
   "name": "python3"
  },
  "language_info": {
   "codemirror_mode": {
    "name": "ipython",
    "version": 3
   },
   "file_extension": ".py",
   "mimetype": "text/x-python",
   "name": "python",
   "nbconvert_exporter": "python",
   "pygments_lexer": "ipython3",
   "version": "3.7.1"
  }
 },
 "nbformat": 4,
 "nbformat_minor": 2
}
