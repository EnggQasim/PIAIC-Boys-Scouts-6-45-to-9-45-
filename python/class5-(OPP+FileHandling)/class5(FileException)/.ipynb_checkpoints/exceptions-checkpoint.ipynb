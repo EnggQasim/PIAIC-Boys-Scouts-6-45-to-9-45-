{
 "cells": [
  {
   "cell_type": "code",
   "execution_count": 1,
   "metadata": {},
   "outputs": [
    {
     "ename": "ZeroDivisionError",
     "evalue": "division by zero",
     "output_type": "error",
     "traceback": [
      "\u001b[0;31m---------------------------------------------------------------------------\u001b[0m",
      "\u001b[0;31mZeroDivisionError\u001b[0m                         Traceback (most recent call last)",
      "\u001b[0;32m<ipython-input-1-4afca249707c>\u001b[0m in \u001b[0;36m<module>\u001b[0;34m\u001b[0m\n\u001b[0;32m----> 1\u001b[0;31m \u001b[0;36m5\u001b[0m\u001b[0;34m/\u001b[0m\u001b[0;36m0\u001b[0m\u001b[0;34m\u001b[0m\u001b[0;34m\u001b[0m\u001b[0m\n\u001b[0m\u001b[1;32m      2\u001b[0m \u001b[0mprint\u001b[0m\u001b[0;34m(\u001b[0m\u001b[0;34m\"hello world\"\u001b[0m\u001b[0;34m)\u001b[0m\u001b[0;34m\u001b[0m\u001b[0;34m\u001b[0m\u001b[0m\n",
      "\u001b[0;31mZeroDivisionError\u001b[0m: division by zero"
     ]
    }
   ],
   "source": [
    "5/0\n",
    "print(\"hello world\")"
   ]
  },
  {
   "cell_type": "code",
   "execution_count": 2,
   "metadata": {},
   "outputs": [
    {
     "ename": "TypeError",
     "evalue": "can only concatenate str (not \"int\") to str",
     "output_type": "error",
     "traceback": [
      "\u001b[0;31m---------------------------------------------------------------------------\u001b[0m",
      "\u001b[0;31mTypeError\u001b[0m                                 Traceback (most recent call last)",
      "\u001b[0;32m<ipython-input-2-d245ef8738f4>\u001b[0m in \u001b[0;36m<module>\u001b[0;34m\u001b[0m\n\u001b[0;32m----> 1\u001b[0;31m \u001b[0;34m\"asd\"\u001b[0m \u001b[0;34m+\u001b[0m \u001b[0;36m20\u001b[0m\u001b[0;34m\u001b[0m\u001b[0;34m\u001b[0m\u001b[0m\n\u001b[0m\u001b[1;32m      2\u001b[0m \u001b[0mprint\u001b[0m\u001b[0;34m(\u001b[0m\u001b[0;34m\"hello world\"\u001b[0m\u001b[0;34m)\u001b[0m\u001b[0;34m\u001b[0m\u001b[0;34m\u001b[0m\u001b[0m\n",
      "\u001b[0;31mTypeError\u001b[0m: can only concatenate str (not \"int\") to str"
     ]
    }
   ],
   "source": [
    "\"asd\" + 20\n",
    "print(\"hello world\")"
   ]
  },
  {
   "cell_type": "code",
   "execution_count": 3,
   "metadata": {},
   "outputs": [
    {
     "ename": "FileNotFoundError",
     "evalue": "[Errno 2] No such file or directory: 'abcxyz.txt'",
     "output_type": "error",
     "traceback": [
      "\u001b[0;31m---------------------------------------------------------------------------\u001b[0m",
      "\u001b[0;31mFileNotFoundError\u001b[0m                         Traceback (most recent call last)",
      "\u001b[0;32m<ipython-input-3-81dbd236a4d1>\u001b[0m in \u001b[0;36m<module>\u001b[0;34m\u001b[0m\n\u001b[0;32m----> 1\u001b[0;31m \u001b[0mopen\u001b[0m\u001b[0;34m(\u001b[0m\u001b[0;34m\"abcxyz.txt\"\u001b[0m\u001b[0;34m)\u001b[0m\u001b[0;34m\u001b[0m\u001b[0;34m\u001b[0m\u001b[0m\n\u001b[0m",
      "\u001b[0;31mFileNotFoundError\u001b[0m: [Errno 2] No such file or directory: 'abcxyz.txt'"
     ]
    }
   ],
   "source": [
    "open(\"abcxyz.txt\")"
   ]
  },
  {
   "cell_type": "code",
   "execution_count": 4,
   "metadata": {},
   "outputs": [
    {
     "ename": "IndexError",
     "evalue": "list index out of range",
     "output_type": "error",
     "traceback": [
      "\u001b[0;31m---------------------------------------------------------------------------\u001b[0m",
      "\u001b[0;31mIndexError\u001b[0m                                Traceback (most recent call last)",
      "\u001b[0;32m<ipython-input-4-ffb0e47b3d95>\u001b[0m in \u001b[0;36m<module>\u001b[0;34m\u001b[0m\n\u001b[1;32m      1\u001b[0m \u001b[0ml\u001b[0m \u001b[0;34m=\u001b[0m \u001b[0;34m[\u001b[0m\u001b[0;34m'a'\u001b[0m\u001b[0;34m,\u001b[0m\u001b[0;34m'b'\u001b[0m\u001b[0;34m,\u001b[0m\u001b[0;34m'c'\u001b[0m\u001b[0;34m]\u001b[0m\u001b[0;34m\u001b[0m\u001b[0;34m\u001b[0m\u001b[0m\n\u001b[0;32m----> 2\u001b[0;31m \u001b[0ml\u001b[0m\u001b[0;34m[\u001b[0m\u001b[0;36m5\u001b[0m\u001b[0;34m]\u001b[0m\u001b[0;34m\u001b[0m\u001b[0;34m\u001b[0m\u001b[0m\n\u001b[0m",
      "\u001b[0;31mIndexError\u001b[0m: list index out of range"
     ]
    }
   ],
   "source": [
    "l = ['a','b','c']\n",
    "l[5]"
   ]
  },
  {
   "cell_type": "code",
   "execution_count": 5,
   "metadata": {},
   "outputs": [
    {
     "ename": "TypeError",
     "evalue": "'tuple' object does not support item assignment",
     "output_type": "error",
     "traceback": [
      "\u001b[0;31m---------------------------------------------------------------------------\u001b[0m",
      "\u001b[0;31mTypeError\u001b[0m                                 Traceback (most recent call last)",
      "\u001b[0;32m<ipython-input-5-e2f689510745>\u001b[0m in \u001b[0;36m<module>\u001b[0;34m\u001b[0m\n\u001b[1;32m      1\u001b[0m \u001b[0ml1\u001b[0m \u001b[0;34m=\u001b[0m \u001b[0;34m(\u001b[0m\u001b[0;36m20\u001b[0m\u001b[0;34m,\u001b[0m\u001b[0;36m29\u001b[0m\u001b[0;34m,\u001b[0m\u001b[0;36m8\u001b[0m\u001b[0;34m)\u001b[0m\u001b[0;34m\u001b[0m\u001b[0;34m\u001b[0m\u001b[0m\n\u001b[0;32m----> 2\u001b[0;31m \u001b[0ml1\u001b[0m\u001b[0;34m[\u001b[0m\u001b[0;36m0\u001b[0m\u001b[0;34m]\u001b[0m \u001b[0;34m=\u001b[0m \u001b[0;36m25\u001b[0m\u001b[0;34m\u001b[0m\u001b[0;34m\u001b[0m\u001b[0m\n\u001b[0m",
      "\u001b[0;31mTypeError\u001b[0m: 'tuple' object does not support item assignment"
     ]
    }
   ],
   "source": [
    "l1 = (20,29,8)\n",
    "l1[0] = 25"
   ]
  },
  {
   "cell_type": "code",
   "execution_count": 7,
   "metadata": {},
   "outputs": [
    {
     "name": "stdout",
     "output_type": "stream",
     "text": [
      "2.0\n",
      "pakistan zinda bad\n"
     ]
    }
   ],
   "source": [
    "a = 10\n",
    "b = 5\n",
    "\n",
    "print(a / b)\n",
    "\n",
    "print(\"pakistan zinda bad\")"
   ]
  },
  {
   "cell_type": "code",
   "execution_count": 8,
   "metadata": {},
   "outputs": [
    {
     "ename": "ZeroDivisionError",
     "evalue": "division by zero",
     "output_type": "error",
     "traceback": [
      "\u001b[0;31m---------------------------------------------------------------------------\u001b[0m",
      "\u001b[0;31mZeroDivisionError\u001b[0m                         Traceback (most recent call last)",
      "\u001b[0;32m<ipython-input-8-5638f944b475>\u001b[0m in \u001b[0;36m<module>\u001b[0;34m\u001b[0m\n\u001b[1;32m      2\u001b[0m \u001b[0mb\u001b[0m \u001b[0;34m=\u001b[0m \u001b[0;36m0\u001b[0m\u001b[0;34m\u001b[0m\u001b[0;34m\u001b[0m\u001b[0m\n\u001b[1;32m      3\u001b[0m \u001b[0;34m\u001b[0m\u001b[0m\n\u001b[0;32m----> 4\u001b[0;31m \u001b[0mprint\u001b[0m\u001b[0;34m(\u001b[0m\u001b[0ma\u001b[0m \u001b[0;34m/\u001b[0m \u001b[0mb\u001b[0m\u001b[0;34m)\u001b[0m\u001b[0;34m\u001b[0m\u001b[0;34m\u001b[0m\u001b[0m\n\u001b[0m\u001b[1;32m      5\u001b[0m \u001b[0;34m\u001b[0m\u001b[0m\n\u001b[1;32m      6\u001b[0m \u001b[0mprint\u001b[0m\u001b[0;34m(\u001b[0m\u001b[0;34m\"pakistan zinda bad\"\u001b[0m\u001b[0;34m)\u001b[0m\u001b[0;34m\u001b[0m\u001b[0;34m\u001b[0m\u001b[0m\n",
      "\u001b[0;31mZeroDivisionError\u001b[0m: division by zero"
     ]
    }
   ],
   "source": [
    "a = 10\n",
    "b = 0\n",
    "\n",
    "print(a / b)\n",
    "\n",
    "print(\"pakistan zinda bad\")"
   ]
  },
  {
   "cell_type": "code",
   "execution_count": 9,
   "metadata": {},
   "outputs": [
    {
     "name": "stdout",
     "output_type": "stream",
     "text": [
      "you can't divide any value with zero\n",
      "pakistan zinda bad\n"
     ]
    }
   ],
   "source": [
    "a = 10\n",
    "b = 0\n",
    "\n",
    "try:\n",
    "    print(a / b)\n",
    "except ZeroDivisionError:\n",
    "    print(\"you can't divide any value with zero\")\n",
    "\n",
    "print(\"pakistan zinda bad\")"
   ]
  },
  {
   "cell_type": "code",
   "execution_count": null,
   "metadata": {},
   "outputs": [],
   "source": [
    "# %load exceptions/exceptions1.py\n",
    "\n",
    "a = 20\n",
    "b = 0\n",
    "\n",
    "try:\n",
    "    print(a/b)\n",
    "except ZeroDivisionError:\n",
    "    print(\"you can't divide any value with zero\")\n",
    "    print(\"Bhai ap 0 sy divide nhi kr sakty\")\n",
    "\n",
    "\n"
   ]
  },
  {
   "cell_type": "code",
   "execution_count": 11,
   "metadata": {},
   "outputs": [
    {
     "name": "stdout",
     "output_type": "stream",
     "text": [
      "Handle ZeroDivisionError\n"
     ]
    }
   ],
   "source": [
    "# %load exceptions/exceptions2.py\n",
    "\n",
    "a = 5\n",
    "b = 0\n",
    "try:\n",
    "    c = a/b\n",
    "    print(\"asjdlfkja\")\n",
    "    print(c)\n",
    "except ZeroDivisionError:\n",
    "    print(\"Handle ZeroDivisionError\")\n"
   ]
  },
  {
   "cell_type": "code",
   "execution_count": null,
   "metadata": {},
   "outputs": [],
   "source": [
    "# %load exceptions/exceptions3.py\n",
    "\n",
    "a = 5\n",
    "b = 0\n",
    "try:\n",
    "    c = a/b\n",
    "    \n",
    "except ZeroDivisionError:\n",
    "    print(\"Handle ZeroDivisionError\")\n",
    "else:\n",
    "    print(c)\n",
    "\n",
    "\n"
   ]
  },
  {
   "cell_type": "code",
   "execution_count": null,
   "metadata": {},
   "outputs": [],
   "source": [
    "# %load exceptions/exceptions4.py\n",
    "print(\"First\")\n",
    "a = 5\n",
    "b = 0\n",
    "try:\n",
    "    c = a/b\n",
    "    print(c)\n",
    "except ZeroDivisionError:\n",
    "    print(\"Handle ZeroDivisionError\")\n",
    "\n",
    "\n",
    "print(\"last\")\n",
    "\n"
   ]
  },
  {
   "cell_type": "code",
   "execution_count": null,
   "metadata": {},
   "outputs": [],
   "source": [
    "# %load exceptions/exceptions5.py\n",
    "\n",
    "a = 5\n",
    "b = 2\n",
    "d = []\n",
    "try:\n",
    "    c = a/b\n",
    "    e = d[5]\n",
    "    print(e)\n",
    "except ZeroDivisionError:\n",
    "    print(\"Handle ZeroDivisionError\")\n",
    "else:\n",
    "    print(c)\n",
    "\n",
    "print(\"pakistan zinda bad\")\n",
    "\n"
   ]
  },
  {
   "cell_type": "code",
   "execution_count": null,
   "metadata": {},
   "outputs": [],
   "source": [
    "# %load exceptions/exceptions6.py\n",
    "print(\"First\")\n",
    "a = 5\n",
    "b = 5\n",
    "d = []\n",
    "try:\n",
    "    c = a/b\n",
    "    e = d[5]\n",
    "except ZeroDivisionError:\n",
    "    print(\"Handle ZeroDivisionError\")\n",
    "else:\n",
    "    print(c)\n",
    "\n",
    "print(\"last\")\n",
    "\n"
   ]
  },
  {
   "cell_type": "code",
   "execution_count": null,
   "metadata": {},
   "outputs": [],
   "source": [
    "# %load exceptions/exceptions7.py\n",
    "\n",
    "a = 5\n",
    "b = 5\n",
    "d = []\n",
    "try:\n",
    "    c = a/b\n",
    "    e = d[5]    \n",
    "except ZeroDivisionError:\n",
    "    print(\"Handle ZeroDivisionError\")\n",
    "except IndexError:\n",
    "    print(\"Handle IndexError\")\n",
    "else:\n",
    "    print(c)\n",
    "    print(e)\n",
    "\n",
    "print()\n",
    "\n"
   ]
  },
  {
   "cell_type": "code",
   "execution_count": null,
   "metadata": {},
   "outputs": [],
   "source": [
    "a = 5\n",
    "b = 5\n",
    "d = []\n",
    "try:\n",
    "    c = a/b\n",
    "    e = d[5]\n",
    "    print(c)\n",
    "except (ZeroDivisionError, IndexError):\n",
    "    print(\"Handle ZeroDivisionError or IndexError\")\n",
    "else:\n",
    "    print(c)\n",
    "    print(e)"
   ]
  },
  {
   "cell_type": "code",
   "execution_count": null,
   "metadata": {},
   "outputs": [],
   "source": [
    "a = 5\n",
    "b = 5\n",
    "d = []\n",
    "try:\n",
    "    c = a/b\n",
    "    e = d[5]\n",
    "    print(c)\n",
    "except ZeroDivisionError:\n",
    "except IndexError:\n",
    "    print(\"Handle ZeroDivisionError or IndexError\")\n",
    "else:\n",
    "    print(c)\n",
    "    print(e)"
   ]
  },
  {
   "cell_type": "code",
   "execution_count": null,
   "metadata": {},
   "outputs": [],
   "source": [
    "# %load exceptions/exceptions8.py\n",
    "\n",
    "a = 5\n",
    "b = 0\n",
    "d = []\n",
    "try:\n",
    "    #c = a/b\n",
    "    e = d[5]\n",
    "except:\n",
    "    print(\"Handle Error\")\n",
    "else:\n",
    "    print(c)\n",
    "\n",
    "\n"
   ]
  },
  {
   "cell_type": "code",
   "execution_count": null,
   "metadata": {},
   "outputs": [],
   "source": [
    "# %load exceptions/exceptions9.py\n",
    "\n",
    "a = 5\n",
    "b = 0\n",
    "d = []\n",
    "try:\n",
    "    #c = a/b\n",
    "    #x = d[5]\n",
    "    open(\"abc.txt\")\n",
    "except Exception as e:\n",
    "    print(\"Handle Error == \" +str(e))\n",
    "else:\n",
    "    print(c)\n",
    "\n",
    "print('HelloWorld')"
   ]
  },
  {
   "cell_type": "code",
   "execution_count": null,
   "metadata": {
    "scrolled": true
   },
   "outputs": [],
   "source": [
    "# %load exceptions/exceptions9.py\n",
    "\n",
    "a = 5\n",
    "b = 2\n",
    "d = []\n",
    "try:\n",
    "    c = a/b\n",
    "    print(c)\n",
    "except ZeroDivisionError:\n",
    "    print(\"Handle Error1 == \")\n",
    "\n",
    "try:\n",
    "    print(d[20])\n",
    "except IndexError:\n",
    "    print(\"Handle Error ==1\")\n",
    "\n",
    "    \n",
    "try:\n",
    "    open(\"abc.txt\")\n",
    "except Exception as e:\n",
    "    print(\"Handle Error == \" +str(e))\n",
    "    \n",
    "print('HelloWorld')"
   ]
  },
  {
   "cell_type": "code",
   "execution_count": null,
   "metadata": {},
   "outputs": [],
   "source": [
    "# %load exceptions/exceptions10.py\n",
    "\n",
    "a = 5\n",
    "b = 2\n",
    "d = []\n",
    "try:\n",
    "    c = a/b\n",
    "    e = d[5]\n",
    "except ZeroDivisionError:\n",
    "    print(\"Handel ZeroDivisionError\")\n",
    "except Exception as e:\n",
    "    print(\"Handle Error == \" +str(e))\n",
    "else:\n",
    "    print(c)\n",
    "\n",
    "\n",
    "\n"
   ]
  },
  {
   "cell_type": "code",
   "execution_count": null,
   "metadata": {},
   "outputs": [],
   "source": [
    "# %load exceptions/exceptions12.py\n",
    "\n",
    "a = 5\n",
    "b = 5\n",
    "d = []\n",
    "try:\n",
    "    c = a/b\n",
    "    e = d[5]\n",
    "except ZeroDivisionError:\n",
    "    print(\"Handel ZeroDivisionError\")\n",
    "except:\n",
    "    print(\"Handle Error\")\n",
    "else:\n",
    "    print(c)\n",
    "finally:\n",
    "    print(\"Finally will always run\")\n",
    "\n",
    "\n"
   ]
  },
  {
   "cell_type": "code",
   "execution_count": null,
   "metadata": {},
   "outputs": [],
   "source": [
    "# %load exceptions/exceptions13.py\n",
    "class Student():\n",
    "    def __init__(self,name,age):\n",
    "        if age > 80 or age <16:\n",
    "            raise Exception(\"Age can not be greater then 80 and less then 16\")\n",
    "        self.name = name\n",
    "        self.age = age\n",
    "\n",
    "st = Student(\"Asif\",600)\n",
    "print(st.age)\n",
    "\n"
   ]
  },
  {
   "cell_type": "code",
   "execution_count": null,
   "metadata": {},
   "outputs": [],
   "source": [
    "# %load exceptions/exceptions14.py\n",
    "class Student():\n",
    "    def __init__(self,name,age):\n",
    "        if age > 80:\n",
    "            raise Exception(\"Age can not be greater then 80\")\n",
    "        self.name = name\n",
    "        self.age = age\n",
    "\n",
    "try:\n",
    "    st = Student(\"Hello\",600)\n",
    "except Exception as e:\n",
    "    print(\"Exception \"+str(e))\n",
    "else :\n",
    "    print(st.age)\n"
   ]
  },
  {
   "cell_type": "code",
   "execution_count": null,
   "metadata": {},
   "outputs": [],
   "source": [
    "# %load exceptions/exceptions15.py\n",
    "class Student():\n",
    "    def __init__(self,name,age):\n",
    "        if age > 80 or age <16:\n",
    "            raise StudentAgeException(\"Age can not be greater then 80 and less then 16\")\n",
    "        self.name = name\n",
    "        self.age = age\n",
    "\n",
    "class StudentAgeException(Exception):\n",
    "    pass\n",
    "\n",
    "\n",
    "st = Student(\"Hello\",600)\n",
    "print(st.age)\n",
    "\n"
   ]
  },
  {
   "cell_type": "code",
   "execution_count": null,
   "metadata": {},
   "outputs": [],
   "source": [
    "# %load exceptions/exceptions16.py\n",
    "class Student():\n",
    "    def __init__(self,name,age):\n",
    "        if age > 80 or age <16:\n",
    "            raise StudentAgeException(\"Age can not be greater then 80 and less then 16\")\n",
    "        self.name = name\n",
    "        self.age = age\n",
    "\n",
    "class StudentAgeException(Exception):\n",
    "    pass\n",
    "\n",
    "\n",
    "try:\n",
    "    st = Student(\"Hello\",600)\n",
    "    \n",
    "except StudentAgeException as e:\n",
    "    print(\"StudentAgeException == \"+str(e))\n",
    "else :\n",
    "    print(st.age)\n",
    "\n"
   ]
  },
  {
   "cell_type": "code",
   "execution_count": null,
   "metadata": {},
   "outputs": [],
   "source": [
    "?open"
   ]
  },
  {
   "cell_type": "code",
   "execution_count": null,
   "metadata": {},
   "outputs": [],
   "source": []
  }
 ],
 "metadata": {
  "kernelspec": {
   "display_name": "Python 3",
   "language": "python",
   "name": "python3"
  },
  "language_info": {
   "codemirror_mode": {
    "name": "ipython",
    "version": 3
   },
   "file_extension": ".py",
   "mimetype": "text/x-python",
   "name": "python",
   "nbconvert_exporter": "python",
   "pygments_lexer": "ipython3",
   "version": "3.7.1"
  }
 },
 "nbformat": 4,
 "nbformat_minor": 2
}
