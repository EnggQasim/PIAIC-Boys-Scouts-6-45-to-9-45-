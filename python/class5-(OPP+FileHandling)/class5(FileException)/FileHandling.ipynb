{
 "cells": [
  {
   "cell_type": "code",
   "execution_count": 1,
   "metadata": {},
   "outputs": [
    {
     "data": {
      "text/plain": [
       "<_io.TextIOWrapper name='filereadwrite/demo.txt' mode='r' encoding='UTF-8'>"
      ]
     },
     "execution_count": 1,
     "metadata": {},
     "output_type": "execute_result"
    }
   ],
   "source": [
    "open('filereadwrite/demo.txt')"
   ]
  },
  {
   "cell_type": "code",
   "execution_count": 2,
   "metadata": {},
   "outputs": [
    {
     "data": {
      "text/plain": [
       "'I love programming3!\\norld 2\\nHello World 3\\nHello World 4\\nHello World 5\\nHello World 6\\nI love programming3!\\n'"
      ]
     },
     "execution_count": 2,
     "metadata": {},
     "output_type": "execute_result"
    }
   ],
   "source": [
    "data = open('filereadwrite/demo.txt')\n",
    "data.read()"
   ]
  },
  {
   "cell_type": "code",
   "execution_count": 3,
   "metadata": {},
   "outputs": [
    {
     "name": "stdout",
     "output_type": "stream",
     "text": [
      "I love programming3!\n",
      "orld 2\n",
      "Hello World 3\n",
      "Hello World 4\n",
      "Hello World 5\n",
      "Hello World 6\n",
      "I love programming3!\n",
      "\n"
     ]
    }
   ],
   "source": [
    "data = open('filereadwrite/demo.txt')\n",
    "print(data.read())\n",
    "data.close()"
   ]
  },
  {
   "cell_type": "code",
   "execution_count": null,
   "metadata": {},
   "outputs": [],
   "source": []
  },
  {
   "cell_type": "code",
   "execution_count": 4,
   "metadata": {},
   "outputs": [
    {
     "name": "stdout",
     "output_type": "stream",
     "text": [
      "I love programming3!\n",
      "orld 2\n",
      "Hello World 3\n",
      "Hello World 4\n",
      "Hello World 5\n",
      "Hello World 6\n",
      "I love programming3!\n",
      "\n"
     ]
    }
   ],
   "source": [
    "# %load filereadwrite/file1.py\n",
    "with open('filereadwrite/demo.txt') as fileObj:\n",
    "    content = fileObj.read()\n",
    "    print(content)\n",
    "    "
   ]
  },
  {
   "cell_type": "code",
   "execution_count": 5,
   "metadata": {},
   "outputs": [
    {
     "name": "stdout",
     "output_type": "stream",
     "text": [
      "I love programming3!\n",
      "\n",
      "orld 2\n",
      "\n",
      "Hello World 3\n",
      "\n",
      "Hello World 4\n",
      "\n",
      "Hello World 5\n",
      "\n",
      "Hello World 6\n",
      "\n",
      "I love programming3!\n",
      "\n"
     ]
    }
   ],
   "source": [
    "# %load filereadwrite/file2.py\n",
    "with open('filereadwrite/demo.txt') as fileObj:\n",
    "    for line in fileObj:\n",
    "        print(line)"
   ]
  },
  {
   "cell_type": "code",
   "execution_count": 6,
   "metadata": {
    "scrolled": true
   },
   "outputs": [
    {
     "name": "stdout",
     "output_type": "stream",
     "text": [
      "['I love programming3!\\n', 'orld 2\\n', 'Hello World 3\\n', 'Hello World 4\\n', 'Hello World 5\\n', 'Hello World 6\\n', 'I love programming3!\\n']\n"
     ]
    }
   ],
   "source": [
    "# %load filereadwrite/file3.py\n",
    "with open('filereadwrite/demo.txt') as fileObj:\n",
    "    lines = fileObj.readlines()\n",
    "    print(lines)"
   ]
  },
  {
   "cell_type": "code",
   "execution_count": 7,
   "metadata": {},
   "outputs": [
    {
     "name": "stdout",
     "output_type": "stream",
     "text": [
      "['hello', 'test', 'I love programming3!\\n', 'orld 2\\n', 'Hello World 3\\n', 'Hello World 4\\n', 'Hello World 5\\n', 'Hello World 6\\n', 'I love programming3!\\n']\n"
     ]
    }
   ],
   "source": [
    "# %load filereadwrite/file4.py\n",
    "mylist = [\"hello\",\"test\"]\n",
    "with open('filereadwrite/demo.txt', mode='r') as fileObj:\n",
    "    lines = fileObj.readlines()\n",
    "    mylist  = mylist + lines\n",
    "    print(mylist)"
   ]
  },
  {
   "cell_type": "code",
   "execution_count": 9,
   "metadata": {},
   "outputs": [],
   "source": [
    "# %load filereadwrite/file5.py\n",
    "\n",
    "with open('filereadwrite/demo1.txt','w') as fileObj:\n",
    "    fileObj.write(\"PIAIC Saylani\")"
   ]
  },
  {
   "cell_type": "code",
   "execution_count": 12,
   "metadata": {},
   "outputs": [],
   "source": [
    "# %load filereadwrite/file5.py\n",
    "\n",
    "with open('filereadwrite/demo2.txt','x') as fileObj:\n",
    "    fileObj.write(\"PIAIC Saylanijas df\")"
   ]
  },
  {
   "cell_type": "code",
   "execution_count": 13,
   "metadata": {},
   "outputs": [],
   "source": [
    "# %load filereadwrite/file6.py\n",
    "\n",
    "with open('filereadwrite/demo2.txt','a') as fileObj:\n",
    "    fileObj.write(\"I love programming and Saylani!\\n\")\n",
    "    #content = fileObj.read()\n",
    "    #print(content)"
   ]
  },
  {
   "cell_type": "code",
   "execution_count": 15,
   "metadata": {},
   "outputs": [
    {
     "name": "stdout",
     "output_type": "stream",
     "text": [
      "['I love programming3!\\n', 'orld 2\\n', 'Hello World 3\\n', 'Hello World 4\\n', 'Hello World 5\\n', 'Hello World 6\\n', 'I love programming3!\\n', 'I love programming100!\\n']\n"
     ]
    }
   ],
   "source": [
    "# %load filereadwrite/file7.py\n",
    "\n",
    "with open('filereadwrite/demo.txt','r+') as fileObj:\n",
    "    fileObj.write(\"I love programming100!\\n\")\n",
    "\n",
    "    #fileObj.seek(0)\n",
    "    content = fileObj.readlines()\n",
    "    print(content)\n",
    "\n"
   ]
  },
  {
   "cell_type": "code",
   "execution_count": 16,
   "metadata": {},
   "outputs": [
    {
     "data": {
      "text/plain": [
       "True"
      ]
     },
     "execution_count": 16,
     "metadata": {},
     "output_type": "execute_result"
    }
   ],
   "source": [
    "import  os\n",
    "\n",
    "p = os.path.isfile(\"filereadwrite/demo.txt\")\n",
    "p"
   ]
  },
  {
   "cell_type": "code",
   "execution_count": 17,
   "metadata": {},
   "outputs": [
    {
     "data": {
      "text/plain": [
       "True"
      ]
     },
     "execution_count": 17,
     "metadata": {},
     "output_type": "execute_result"
    }
   ],
   "source": [
    "p1 = os.path.isdir(\"filereadwrite/\")\n",
    "p1"
   ]
  },
  {
   "cell_type": "code",
   "execution_count": 18,
   "metadata": {},
   "outputs": [
    {
     "data": {
      "text/plain": [
       "['file2.py',\n",
       " 'demo.txt',\n",
       " 'demo2.txt',\n",
       " 'file5.py',\n",
       " 'demo3.txt',\n",
       " 'file3.py',\n",
       " 'file6.py',\n",
       " 'untitled31.py',\n",
       " 'file1.py',\n",
       " 'file8.py',\n",
       " '.idea',\n",
       " 'file7.py',\n",
       " 'demo1.txt',\n",
       " 'file4.py']"
      ]
     },
     "execution_count": 18,
     "metadata": {},
     "output_type": "execute_result"
    }
   ],
   "source": [
    "dirList = os.listdir(\"filereadwrite/\")\n",
    "dirList"
   ]
  },
  {
   "cell_type": "code",
   "execution_count": null,
   "metadata": {},
   "outputs": [],
   "source": [
    "os."
   ]
  },
  {
   "cell_type": "code",
   "execution_count": null,
   "metadata": {},
   "outputs": [],
   "source": [
    "a=\"pakistan zinda bad\""
   ]
  },
  {
   "cell_type": "code",
   "execution_count": null,
   "metadata": {},
   "outputs": [],
   "source": [
    "a.capitalize()"
   ]
  },
  {
   "cell_type": "code",
   "execution_count": null,
   "metadata": {},
   "outputs": [],
   "source": [
    "a.lower()"
   ]
  },
  {
   "cell_type": "code",
   "execution_count": null,
   "metadata": {},
   "outputs": [],
   "source": [
    "a.upper()"
   ]
  },
  {
   "cell_type": "code",
   "execution_count": null,
   "metadata": {},
   "outputs": [],
   "source": []
  }
 ],
 "metadata": {
  "kernelspec": {
   "display_name": "Python 3",
   "language": "python",
   "name": "python3"
  },
  "language_info": {
   "codemirror_mode": {
    "name": "ipython",
    "version": 3
   },
   "file_extension": ".py",
   "mimetype": "text/x-python",
   "name": "python",
   "nbconvert_exporter": "python",
   "pygments_lexer": "ipython3",
   "version": "3.7.1"
  }
 },
 "nbformat": 4,
 "nbformat_minor": 2
}
