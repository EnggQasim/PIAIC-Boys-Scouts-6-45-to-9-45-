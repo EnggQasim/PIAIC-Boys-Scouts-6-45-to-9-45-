{
 "cells": [
  {
   "cell_type": "markdown",
   "metadata": {},
   "source": [
    "# Dictionary\n",
    "- methods\n",
    "- attributes\n",
    "- extract values from dictionary\n",
    "\n",
    "# User define function\n",
    "- defualt function\n",
    "- required arguments functions\n",
    "- optional arguments functions\n",
    "- pass arguments with values and key=values\n"
   ]
  },
  {
   "cell_type": "code",
   "execution_count": 1,
   "metadata": {},
   "outputs": [
    {
     "name": "stdout",
     "output_type": "stream",
     "text": [
      "qasim Aslam 03151234567 077\n"
     ]
    }
   ],
   "source": [
    "l1 = ['qasim', 'Aslam','03151234567','077'] \n",
    "#all elemnents are stored with index number\n",
    "# 0 = name\n",
    "# 1 = father_name\n",
    "# 2 = cell\n",
    "# 3 = id\n",
    "print(l1[0], l1[1], l1[2], l1[3])"
   ]
  },
  {
   "cell_type": "code",
   "execution_count": 2,
   "metadata": {},
   "outputs": [
    {
     "name": "stdout",
     "output_type": "stream",
     "text": [
      "qasim Aslam 03151234567 077\n"
     ]
    }
   ],
   "source": [
    "print(*l1) # same as above"
   ]
  },
  {
   "cell_type": "markdown",
   "metadata": {},
   "source": [
    "# Dictionary"
   ]
  },
  {
   "cell_type": "code",
   "execution_count": 3,
   "metadata": {},
   "outputs": [
    {
     "data": {
      "text/plain": [
       "{'name': 'Muhammad Qasim',\n",
       " 'fname': 'Muhammad Aslam',\n",
       " 'cell': '03152222222',\n",
       " 'id': '077',\n",
       " 'age': 50}"
      ]
     },
     "execution_count": 3,
     "metadata": {},
     "output_type": "execute_result"
    }
   ],
   "source": [
    "# item = key:value (pair)\n",
    "obj1 = {\n",
    "    'name' : 'Muhammad Qasim',\n",
    "    'fname' : 'Muhammad Aslam',\n",
    "    'cell' : '03152222222',\n",
    "    'id' : '077',\n",
    "    'age':50,\n",
    "}\n",
    "\n",
    "obj1"
   ]
  },
  {
   "cell_type": "code",
   "execution_count": 4,
   "metadata": {},
   "outputs": [
    {
     "ename": "KeyError",
     "evalue": "0",
     "output_type": "error",
     "traceback": [
      "\u001b[0;31m---------------------------------------------------------------------------\u001b[0m",
      "\u001b[0;31mKeyError\u001b[0m                                  Traceback (most recent call last)",
      "\u001b[0;32m<ipython-input-4-e1cb28d23d8f>\u001b[0m in \u001b[0;36m<module>\u001b[0;34m\u001b[0m\n\u001b[0;32m----> 1\u001b[0;31m \u001b[0mobj1\u001b[0m\u001b[0;34m[\u001b[0m\u001b[0;36m0\u001b[0m\u001b[0;34m]\u001b[0m\u001b[0;34m\u001b[0m\u001b[0;34m\u001b[0m\u001b[0m\n\u001b[0m",
      "\u001b[0;31mKeyError\u001b[0m: 0"
     ]
    }
   ],
   "source": [
    "obj1[0]"
   ]
  },
  {
   "cell_type": "code",
   "execution_count": 5,
   "metadata": {},
   "outputs": [
    {
     "data": {
      "text/plain": [
       "'Muhammad Qasim'"
      ]
     },
     "execution_count": 5,
     "metadata": {},
     "output_type": "execute_result"
    }
   ],
   "source": [
    "obj1['name']"
   ]
  },
  {
   "cell_type": "code",
   "execution_count": 6,
   "metadata": {},
   "outputs": [
    {
     "data": {
      "text/plain": [
       "'Muhammad Aslam'"
      ]
     },
     "execution_count": 6,
     "metadata": {},
     "output_type": "execute_result"
    }
   ],
   "source": [
    "obj1['fname']"
   ]
  },
  {
   "cell_type": "code",
   "execution_count": 7,
   "metadata": {},
   "outputs": [
    {
     "data": {
      "text/plain": [
       "'03152222222'"
      ]
     },
     "execution_count": 7,
     "metadata": {},
     "output_type": "execute_result"
    }
   ],
   "source": [
    "obj1['cell']"
   ]
  },
  {
   "cell_type": "code",
   "execution_count": 8,
   "metadata": {},
   "outputs": [
    {
     "data": {
      "text/plain": [
       "'077'"
      ]
     },
     "execution_count": 8,
     "metadata": {},
     "output_type": "execute_result"
    }
   ],
   "source": [
    "obj1['id']"
   ]
  },
  {
   "cell_type": "code",
   "execution_count": 9,
   "metadata": {},
   "outputs": [
    {
     "data": {
      "text/plain": [
       "'pakistan zinda bad'"
      ]
     },
     "execution_count": 9,
     "metadata": {},
     "output_type": "execute_result"
    }
   ],
   "source": [
    "# element = key:value (pair)\n",
    "# key = string, integer\n",
    "obj1 = {\n",
    "    'name' : 'Muhammad Qasim',\n",
    "    'fname' : 'Muhammad Aslam',\n",
    "    'cell' : '03152222222',\n",
    "    'id' : '077string',\n",
    "    'age':50,\n",
    "    0 : 'pakistan zinda bad',\n",
    "}\n",
    "\n",
    "obj1[0]"
   ]
  },
  {
   "cell_type": "code",
   "execution_count": 10,
   "metadata": {},
   "outputs": [
    {
     "ename": "TypeError",
     "evalue": "unhashable type: 'list'",
     "output_type": "error",
     "traceback": [
      "\u001b[0;31m---------------------------------------------------------------------------\u001b[0m",
      "\u001b[0;31mTypeError\u001b[0m                                 Traceback (most recent call last)",
      "\u001b[0;32m<ipython-input-10-4f0782c3a87e>\u001b[0m in \u001b[0;36m<module>\u001b[0;34m\u001b[0m\n\u001b[1;32m      8\u001b[0m     \u001b[0;34m'age'\u001b[0m\u001b[0;34m:\u001b[0m\u001b[0;36m50\u001b[0m\u001b[0;34m,\u001b[0m\u001b[0;34m\u001b[0m\u001b[0;34m\u001b[0m\u001b[0m\n\u001b[1;32m      9\u001b[0m     \u001b[0;36m0\u001b[0m \u001b[0;34m:\u001b[0m \u001b[0;34m'pakistan zinda bad'\u001b[0m\u001b[0;34m,\u001b[0m\u001b[0;34m\u001b[0m\u001b[0;34m\u001b[0m\u001b[0m\n\u001b[0;32m---> 10\u001b[0;31m     \u001b[0;34m[\u001b[0m\u001b[0;34m'abc'\u001b[0m\u001b[0;34m]\u001b[0m \u001b[0;34m:\u001b[0m \u001b[0;34m'hello world'\u001b[0m\u001b[0;34m\u001b[0m\u001b[0;34m\u001b[0m\u001b[0m\n\u001b[0m\u001b[1;32m     11\u001b[0m }\n\u001b[1;32m     12\u001b[0m \u001b[0;34m\u001b[0m\u001b[0m\n",
      "\u001b[0;31mTypeError\u001b[0m: unhashable type: 'list'"
     ]
    }
   ],
   "source": [
    "# element = key:value (pair)\n",
    "# key = string, integer\n",
    "obj1 = {\n",
    "    'name' : 'Muhammad Qasim',\n",
    "    'fname' : 'Muhammad Aslam',\n",
    "    'cell' : '03152222222',\n",
    "    'id' : '077',\n",
    "    'age':50,\n",
    "    0 : 'pakistan zinda bad',\n",
    "    ['abc'] : 'hello world'\n",
    "}\n",
    "\n",
    "obj1[0]"
   ]
  },
  {
   "cell_type": "code",
   "execution_count": 11,
   "metadata": {},
   "outputs": [
    {
     "data": {
      "text/plain": [
       "'pakistan zinda bad'"
      ]
     },
     "execution_count": 11,
     "metadata": {},
     "output_type": "execute_result"
    }
   ],
   "source": [
    "obj1 = {\n",
    "    'name' : 'Muhammad Qasim',\n",
    "    'fname' : 'Muhammad Aslam',\n",
    "    'cell' : '03152222222',\n",
    "    'id' : '077',\n",
    "    'age':50,\n",
    "    0 : 'pakistan zinda bad',\n",
    "    ('abc') : 'hello world'\n",
    "}\n",
    "\n",
    "obj1[0]"
   ]
  },
  {
   "cell_type": "code",
   "execution_count": 12,
   "metadata": {},
   "outputs": [
    {
     "data": {
      "text/plain": [
       "dict_keys(['name', 'fname', 'cell', 'id', 'age', 0, 'abc'])"
      ]
     },
     "execution_count": 12,
     "metadata": {},
     "output_type": "execute_result"
    }
   ],
   "source": [
    "obj1.keys()"
   ]
  },
  {
   "cell_type": "code",
   "execution_count": 14,
   "metadata": {},
   "outputs": [
    {
     "data": {
      "text/plain": [
       "'pakistan zinda bad'"
      ]
     },
     "execution_count": 14,
     "metadata": {},
     "output_type": "execute_result"
    }
   ],
   "source": [
    "# element = key:value (pair)\n",
    "# key = string, integer\n",
    "obj1 = {\n",
    "    'name' : 'Muhammad Qasim',\n",
    "    'fname' : 'Muhammad Aslam',\n",
    "    'cell' : '03152222222',\n",
    "    'id' : '077',\n",
    "    'age':50,\n",
    "    0 : 'pakistan zinda bad',\n",
    "    ('abc') : 'hello world'\n",
    "}\n",
    "\n",
    "obj1[0]"
   ]
  },
  {
   "cell_type": "code",
   "execution_count": 17,
   "metadata": {},
   "outputs": [
    {
     "data": {
      "text/plain": [
       "['a', 'b', 'c']"
      ]
     },
     "execution_count": 17,
     "metadata": {},
     "output_type": "execute_result"
    }
   ],
   "source": [
    "# element = key:value (pair)\n",
    "# key = string, integer\n",
    "obj1 = {\n",
    "    'name' : 'Muhammad Qasim',\n",
    "    'fname' : 'Muhammad Aslam',\n",
    "    'cell' : '03152222222',\n",
    "    'id' : '077',\n",
    "    'age':50,\n",
    "    0 : 'pakistan zinda bad',\n",
    "    'abc' : ['a','b','c']\n",
    "}\n",
    "\n",
    "obj1['abc']"
   ]
  },
  {
   "cell_type": "code",
   "execution_count": 18,
   "metadata": {},
   "outputs": [
    {
     "data": {
      "text/plain": [
       "'b'"
      ]
     },
     "execution_count": 18,
     "metadata": {},
     "output_type": "execute_result"
    }
   ],
   "source": [
    "obj1['abc'][1]"
   ]
  },
  {
   "cell_type": "markdown",
   "metadata": {},
   "source": [
    "# Function\n",
    "- function decr\n",
    "- function body\n",
    "- function calling"
   ]
  },
  {
   "cell_type": "raw",
   "metadata": {},
   "source": [
    "def name(parameter1, parameter2):\n",
    "    statment1\n",
    "    statment2\n",
    "    statment3\n",
    "    \n",
    "name(arg1,arg2)"
   ]
  },
  {
   "cell_type": "code",
   "execution_count": 19,
   "metadata": {},
   "outputs": [],
   "source": [
    "def abc(name, fname, course): # function decr\n",
    "    print(name,fname, course) # function body"
   ]
  },
  {
   "cell_type": "code",
   "execution_count": 20,
   "metadata": {},
   "outputs": [
    {
     "name": "stdout",
     "output_type": "stream",
     "text": [
      "Qasim Aslam A.I\n"
     ]
    }
   ],
   "source": [
    "abc('Qasim','Aslam','A.I') # function call"
   ]
  },
  {
   "cell_type": "code",
   "execution_count": 21,
   "metadata": {},
   "outputs": [
    {
     "name": "stdout",
     "output_type": "stream",
     "text": [
      "A.i Aslam Qasim\n"
     ]
    }
   ],
   "source": [
    "abc('A.i','Aslam','Qasim')"
   ]
  },
  {
   "cell_type": "code",
   "execution_count": 22,
   "metadata": {},
   "outputs": [
    {
     "ename": "TypeError",
     "evalue": "abc() missing 1 required positional argument: 'course'",
     "output_type": "error",
     "traceback": [
      "\u001b[0;31m---------------------------------------------------------------------------\u001b[0m",
      "\u001b[0;31mTypeError\u001b[0m                                 Traceback (most recent call last)",
      "\u001b[0;32m<ipython-input-22-859dbc11ec09>\u001b[0m in \u001b[0;36m<module>\u001b[0;34m\u001b[0m\n\u001b[0;32m----> 1\u001b[0;31m \u001b[0mabc\u001b[0m\u001b[0;34m(\u001b[0m\u001b[0;34m\"Qasim\"\u001b[0m\u001b[0;34m,\u001b[0m\u001b[0;34m'Aslam'\u001b[0m\u001b[0;34m)\u001b[0m\u001b[0;34m\u001b[0m\u001b[0;34m\u001b[0m\u001b[0m\n\u001b[0m",
      "\u001b[0;31mTypeError\u001b[0m: abc() missing 1 required positional argument: 'course'"
     ]
    }
   ],
   "source": [
    "abc(\"Qasim\",'Aslam')"
   ]
  },
  {
   "cell_type": "code",
   "execution_count": 23,
   "metadata": {},
   "outputs": [
    {
     "name": "stdout",
     "output_type": "stream",
     "text": [
      "Qasim Aslam A.I\n"
     ]
    }
   ],
   "source": [
    "l1 = ['Qasim','Aslam',\"A.I\"]\n",
    "\n",
    "abc(l1[0], l1[1], l1[2])"
   ]
  },
  {
   "cell_type": "code",
   "execution_count": 24,
   "metadata": {},
   "outputs": [
    {
     "name": "stdout",
     "output_type": "stream",
     "text": [
      "Qasim Aslam A.I\n"
     ]
    }
   ],
   "source": [
    "abc(*l1)"
   ]
  },
  {
   "cell_type": "code",
   "execution_count": 25,
   "metadata": {},
   "outputs": [
    {
     "name": "stdout",
     "output_type": "stream",
     "text": [
      "QAsim Aslam A.III\n"
     ]
    }
   ],
   "source": [
    "abc(course=\"A.III\", name=\"QAsim\", fname=\"Aslam\")"
   ]
  },
  {
   "cell_type": "code",
   "execution_count": 26,
   "metadata": {},
   "outputs": [
    {
     "name": "stdout",
     "output_type": "stream",
     "text": [
      "Muhammad Qasim Aslam A.I\n"
     ]
    }
   ],
   "source": [
    "obj = {'course':'A.I',\n",
    "      'name':'Muhammad Qasim',\n",
    "      'fname':'Aslam'}\n",
    "\n",
    "abc(**obj)\n",
    "# abc(course=\"A.I\", name=\"Muhammad Qasim\", 'fname'=\"Aslam\")"
   ]
  },
  {
   "cell_type": "markdown",
   "metadata": {},
   "source": [
    "# Dictionary Methods"
   ]
  },
  {
   "cell_type": "code",
   "execution_count": 27,
   "metadata": {},
   "outputs": [
    {
     "name": "stdout",
     "output_type": "stream",
     "text": [
      "94337809220608\n",
      "94337809220608\n"
     ]
    }
   ],
   "source": [
    "a = 5\n",
    "b = 5\n",
    "\n",
    "print(id(a))\n",
    "print(id(b))"
   ]
  },
  {
   "cell_type": "code",
   "execution_count": 28,
   "metadata": {},
   "outputs": [
    {
     "data": {
      "text/plain": [
       "{'name': 'Muhammad Qasim',\n",
       " 'fname': 'Muhammad Aslam',\n",
       " 'cell': '03152222222',\n",
       " 'id': '077',\n",
       " 'age': 50,\n",
       " 0: 'pakistan zinda bad',\n",
       " 'abc': ['a', 'b', 'c']}"
      ]
     },
     "execution_count": 28,
     "metadata": {},
     "output_type": "execute_result"
    }
   ],
   "source": [
    "obj1"
   ]
  },
  {
   "cell_type": "code",
   "execution_count": 29,
   "metadata": {},
   "outputs": [
    {
     "name": "stdout",
     "output_type": "stream",
     "text": [
      "140178932214304\n",
      "140178932214304\n"
     ]
    }
   ],
   "source": [
    "obj2 = obj1\n",
    "print(id(obj1))\n",
    "print(id(obj2))"
   ]
  },
  {
   "cell_type": "code",
   "execution_count": 30,
   "metadata": {},
   "outputs": [
    {
     "data": {
      "text/plain": [
       "{'name': 'Muhammad Qasim',\n",
       " 'fname': 'Muhammad Aslam',\n",
       " 'cell': '03152222222',\n",
       " 'id': '077',\n",
       " 'age': 50,\n",
       " 0: 'pakistan zinda bad',\n",
       " 'abc': ['a', 'b', 'c']}"
      ]
     },
     "execution_count": 30,
     "metadata": {},
     "output_type": "execute_result"
    }
   ],
   "source": [
    "a=obj1.copy()\n",
    "a"
   ]
  },
  {
   "cell_type": "code",
   "execution_count": 31,
   "metadata": {},
   "outputs": [
    {
     "data": {
      "text/plain": [
       "{'course': 'A.I', 'name': 'Muhammad Qasim', 'fname': 'Aslam'}"
      ]
     },
     "execution_count": 31,
     "metadata": {},
     "output_type": "execute_result"
    }
   ],
   "source": [
    "obj"
   ]
  },
  {
   "cell_type": "code",
   "execution_count": 32,
   "metadata": {},
   "outputs": [
    {
     "name": "stdout",
     "output_type": "stream",
     "text": [
      "140178932214304\n",
      "140178932212072\n"
     ]
    }
   ],
   "source": [
    "print(id(obj1))\n",
    "print(id(a))"
   ]
  },
  {
   "cell_type": "code",
   "execution_count": 33,
   "metadata": {},
   "outputs": [
    {
     "data": {
      "text/plain": [
       "{}"
      ]
     },
     "execution_count": 33,
     "metadata": {},
     "output_type": "execute_result"
    }
   ],
   "source": [
    "obj.clear()\n",
    "obj"
   ]
  },
  {
   "cell_type": "code",
   "execution_count": 34,
   "metadata": {},
   "outputs": [
    {
     "data": {
      "text/plain": [
       "{'name': None, 'fname': None, 'course': None, 'timing': None, 'address': None}"
      ]
     },
     "execution_count": 34,
     "metadata": {},
     "output_type": "execute_result"
    }
   ],
   "source": [
    "l1 = ['name','fname','course','timing','address']\n",
    "dict.fromkeys(l1)"
   ]
  },
  {
   "cell_type": "code",
   "execution_count": 35,
   "metadata": {},
   "outputs": [
    {
     "data": {
      "text/plain": [
       "{'name': 'abc',\n",
       " 'fname': 'abc',\n",
       " 'course': 'abc',\n",
       " 'timing': 'abc',\n",
       " 'address': 'abc'}"
      ]
     },
     "execution_count": 35,
     "metadata": {},
     "output_type": "execute_result"
    }
   ],
   "source": [
    "a1 = dict.fromkeys(l1, 'abc')\n",
    "#a1 = dict.fromkeys(l1, value=\"##\")\n",
    "a1"
   ]
  },
  {
   "cell_type": "code",
   "execution_count": 36,
   "metadata": {},
   "outputs": [
    {
     "ename": "KeyError",
     "evalue": "'cell'",
     "output_type": "error",
     "traceback": [
      "\u001b[0;31m---------------------------------------------------------------------------\u001b[0m",
      "\u001b[0;31mKeyError\u001b[0m                                  Traceback (most recent call last)",
      "\u001b[0;32m<ipython-input-36-6d336e275f75>\u001b[0m in \u001b[0;36m<module>\u001b[0;34m\u001b[0m\n\u001b[0;32m----> 1\u001b[0;31m \u001b[0ma1\u001b[0m\u001b[0;34m[\u001b[0m\u001b[0;34m'cell'\u001b[0m\u001b[0;34m]\u001b[0m\u001b[0;34m\u001b[0m\u001b[0;34m\u001b[0m\u001b[0m\n\u001b[0m",
      "\u001b[0;31mKeyError\u001b[0m: 'cell'"
     ]
    }
   ],
   "source": [
    "a1['cell']"
   ]
  },
  {
   "cell_type": "code",
   "execution_count": 37,
   "metadata": {},
   "outputs": [
    {
     "data": {
      "text/plain": [
       "'abc'"
      ]
     },
     "execution_count": 37,
     "metadata": {},
     "output_type": "execute_result"
    }
   ],
   "source": [
    "a1.get('name')"
   ]
  },
  {
   "cell_type": "code",
   "execution_count": 38,
   "metadata": {},
   "outputs": [],
   "source": [
    "a1.get('cell')"
   ]
  },
  {
   "cell_type": "code",
   "execution_count": 39,
   "metadata": {},
   "outputs": [
    {
     "data": {
      "text/plain": [
       "'NotValid'"
      ]
     },
     "execution_count": 39,
     "metadata": {},
     "output_type": "execute_result"
    }
   ],
   "source": [
    "a1.get('cell','NotValid')"
   ]
  },
  {
   "cell_type": "code",
   "execution_count": 40,
   "metadata": {},
   "outputs": [
    {
     "data": {
      "text/plain": [
       "{'name': 'abc',\n",
       " 'fname': 'abc',\n",
       " 'course': 'abc',\n",
       " 'timing': 'abc',\n",
       " 'address': 'abc'}"
      ]
     },
     "execution_count": 40,
     "metadata": {},
     "output_type": "execute_result"
    }
   ],
   "source": [
    "a1"
   ]
  },
  {
   "cell_type": "code",
   "execution_count": 41,
   "metadata": {},
   "outputs": [],
   "source": [
    "a1.get('contactNumber')\n",
    "# extract value from key without generate error"
   ]
  },
  {
   "cell_type": "code",
   "execution_count": 42,
   "metadata": {},
   "outputs": [
    {
     "data": {
      "text/plain": [
       "dict_keys(['name', 'fname', 'course', 'timing', 'address'])"
      ]
     },
     "execution_count": 42,
     "metadata": {},
     "output_type": "execute_result"
    }
   ],
   "source": [
    "l1=a1.keys()\n",
    "l1"
   ]
  },
  {
   "cell_type": "code",
   "execution_count": 43,
   "metadata": {},
   "outputs": [
    {
     "name": "stdout",
     "output_type": "stream",
     "text": [
      "True\n"
     ]
    }
   ],
   "source": [
    "names = ['qasim','asif','hamza','konain']\n",
    "\n",
    "for name in names:\n",
    "    if name=='qasim':\n",
    "        print(True)"
   ]
  },
  {
   "cell_type": "code",
   "execution_count": 44,
   "metadata": {},
   "outputs": [
    {
     "data": {
      "text/plain": [
       "True"
      ]
     },
     "execution_count": 44,
     "metadata": {},
     "output_type": "execute_result"
    }
   ],
   "source": [
    "'qasim' in names"
   ]
  },
  {
   "cell_type": "code",
   "execution_count": 45,
   "metadata": {},
   "outputs": [
    {
     "data": {
      "text/plain": [
       "True"
      ]
     },
     "execution_count": 45,
     "metadata": {},
     "output_type": "execute_result"
    }
   ],
   "source": [
    "'timing' in l1"
   ]
  },
  {
   "cell_type": "code",
   "execution_count": 46,
   "metadata": {},
   "outputs": [
    {
     "data": {
      "text/plain": [
       "{'name': 'Muhammad Qasim',\n",
       " 'fname': 'Muhammad Aslam',\n",
       " 'cell': '03152222222',\n",
       " 'id': '077',\n",
       " 'age': 50,\n",
       " 0: 'pakistan zinda bad',\n",
       " 'abc': ['a', 'b', 'c']}"
      ]
     },
     "execution_count": 46,
     "metadata": {},
     "output_type": "execute_result"
    }
   ],
   "source": [
    "obj1"
   ]
  },
  {
   "cell_type": "code",
   "execution_count": 47,
   "metadata": {},
   "outputs": [
    {
     "data": {
      "text/plain": [
       "dict_keys(['name', 'fname', 'cell', 'id', 'age', 0, 'abc'])"
      ]
     },
     "execution_count": 47,
     "metadata": {},
     "output_type": "execute_result"
    }
   ],
   "source": [
    "obj1.keys()"
   ]
  },
  {
   "cell_type": "code",
   "execution_count": 48,
   "metadata": {},
   "outputs": [
    {
     "data": {
      "text/plain": [
       "dict_values(['Muhammad Qasim', 'Muhammad Aslam', '03152222222', '077', 50, 'pakistan zinda bad', ['a', 'b', 'c']])"
      ]
     },
     "execution_count": 48,
     "metadata": {},
     "output_type": "execute_result"
    }
   ],
   "source": [
    "obj1.values()"
   ]
  },
  {
   "cell_type": "code",
   "execution_count": 50,
   "metadata": {},
   "outputs": [
    {
     "data": {
      "text/plain": [
       "dict_items([('name', 'Muhammad Qasim'), ('fname', 'Muhammad Aslam'), ('cell', '03152222222'), ('id', '077'), ('age', 50), (0, 'pakistan zinda bad'), ('abc', ['a', 'b', 'c'])])"
      ]
     },
     "execution_count": 50,
     "metadata": {},
     "output_type": "execute_result"
    }
   ],
   "source": [
    "obj1.items()"
   ]
  },
  {
   "cell_type": "code",
   "execution_count": 53,
   "metadata": {},
   "outputs": [
    {
     "data": {
      "text/plain": [
       "{0: 'A', 1: 'B', 3: 'D', 2: 'C'}"
      ]
     },
     "execution_count": 53,
     "metadata": {},
     "output_type": "execute_result"
    }
   ],
   "source": [
    "a1 = {\n",
    "    0:'A',\n",
    "    1:'B',\n",
    "    3:'D',\n",
    "    2:'C'\n",
    "}\n",
    "a1"
   ]
  },
  {
   "cell_type": "code",
   "execution_count": 54,
   "metadata": {},
   "outputs": [
    {
     "data": {
      "text/plain": [
       "[0, 1, 2, 3]"
      ]
     },
     "execution_count": 54,
     "metadata": {},
     "output_type": "execute_result"
    }
   ],
   "source": [
    "sorted(a1)"
   ]
  },
  {
   "cell_type": "code",
   "execution_count": 55,
   "metadata": {},
   "outputs": [
    {
     "data": {
      "text/plain": [
       "[0, 1, 2, 3]"
      ]
     },
     "execution_count": 55,
     "metadata": {},
     "output_type": "execute_result"
    }
   ],
   "source": [
    "sorted(a1.keys())"
   ]
  },
  {
   "cell_type": "code",
   "execution_count": 56,
   "metadata": {},
   "outputs": [
    {
     "data": {
      "text/plain": [
       "{'name': 'Muhammad Qasim',\n",
       " 'fname': 'Muhammad Aslam',\n",
       " 'cell': '03152222222',\n",
       " 'id': '077',\n",
       " 'age': 50,\n",
       " 0: 'pakistan zinda bad',\n",
       " 'abc': ['a', 'b', 'c']}"
      ]
     },
     "execution_count": 56,
     "metadata": {},
     "output_type": "execute_result"
    }
   ],
   "source": [
    "obj1"
   ]
  },
  {
   "cell_type": "code",
   "execution_count": 57,
   "metadata": {},
   "outputs": [
    {
     "name": "stdout",
     "output_type": "stream",
     "text": [
      "name\n",
      "fname\n",
      "cell\n",
      "id\n",
      "age\n",
      "0\n",
      "abc\n"
     ]
    }
   ],
   "source": [
    "for e in obj1:\n",
    "    print(e)"
   ]
  },
  {
   "cell_type": "code",
   "execution_count": 58,
   "metadata": {},
   "outputs": [
    {
     "name": "stdout",
     "output_type": "stream",
     "text": [
      "name\n",
      "fname\n",
      "cell\n",
      "id\n",
      "age\n",
      "0\n",
      "abc\n"
     ]
    }
   ],
   "source": [
    "for k in obj1.keys():\n",
    "    print(k)"
   ]
  },
  {
   "cell_type": "code",
   "execution_count": 59,
   "metadata": {},
   "outputs": [
    {
     "name": "stdout",
     "output_type": "stream",
     "text": [
      "Muhammad Qasim\n",
      "Muhammad Aslam\n",
      "03152222222\n",
      "077\n",
      "50\n",
      "pakistan zinda bad\n",
      "['a', 'b', 'c']\n"
     ]
    }
   ],
   "source": [
    "for v in obj1.values():\n",
    "    print(v)"
   ]
  },
  {
   "cell_type": "code",
   "execution_count": 60,
   "metadata": {},
   "outputs": [
    {
     "name": "stdout",
     "output_type": "stream",
     "text": [
      "20 25\n"
     ]
    }
   ],
   "source": [
    "a , b = [20, 25]\n",
    "print(a,b)"
   ]
  },
  {
   "cell_type": "code",
   "execution_count": 61,
   "metadata": {},
   "outputs": [
    {
     "data": {
      "text/plain": [
       "'abc'"
      ]
     },
     "execution_count": 61,
     "metadata": {},
     "output_type": "execute_result"
    }
   ],
   "source": [
    "a , b, c = 20, 35, 'abc'\n",
    "c"
   ]
  },
  {
   "cell_type": "code",
   "execution_count": 62,
   "metadata": {},
   "outputs": [
    {
     "name": "stdout",
     "output_type": "stream",
     "text": [
      "key= name Value= Muhammad Qasim\n",
      "key= fname Value= Muhammad Aslam\n",
      "key= cell Value= 03152222222\n",
      "key= id Value= 077\n",
      "key= age Value= 50\n",
      "key= 0 Value= pakistan zinda bad\n",
      "key= abc Value= ['a', 'b', 'c']\n"
     ]
    }
   ],
   "source": [
    "for k,v in obj1.items():\n",
    "#     print(e[0], e[1])\n",
    "    print(\"key=\",k,'Value=',v)\n",
    "    #print(e)"
   ]
  },
  {
   "cell_type": "code",
   "execution_count": 63,
   "metadata": {},
   "outputs": [
    {
     "data": {
      "text/plain": [
       "{'name': 'Muhammad Qasim',\n",
       " 'fname': 'Muhammad Aslam',\n",
       " 'cell': '03152222222',\n",
       " 'id': '077',\n",
       " 'age': 50,\n",
       " 0: 'pakistan zinda bad',\n",
       " 'abc': ['a', 'b', 'c']}"
      ]
     },
     "execution_count": 63,
     "metadata": {},
     "output_type": "execute_result"
    }
   ],
   "source": [
    "obj1"
   ]
  },
  {
   "cell_type": "code",
   "execution_count": 64,
   "metadata": {},
   "outputs": [
    {
     "data": {
      "text/plain": [
       "['a', 'b', 'c']"
      ]
     },
     "execution_count": 64,
     "metadata": {},
     "output_type": "execute_result"
    }
   ],
   "source": [
    "obj1.pop('abc')"
   ]
  },
  {
   "cell_type": "code",
   "execution_count": 65,
   "metadata": {
    "scrolled": true
   },
   "outputs": [
    {
     "data": {
      "text/plain": [
       "{'name': 'Muhammad Qasim',\n",
       " 'fname': 'Muhammad Aslam',\n",
       " 'cell': '03152222222',\n",
       " 'id': '077',\n",
       " 'age': 50,\n",
       " 0: 'pakistan zinda bad'}"
      ]
     },
     "execution_count": 65,
     "metadata": {},
     "output_type": "execute_result"
    }
   ],
   "source": [
    "obj1"
   ]
  },
  {
   "cell_type": "code",
   "execution_count": 66,
   "metadata": {},
   "outputs": [
    {
     "data": {
      "text/plain": [
       "(0, 'pakistan zinda bad')"
      ]
     },
     "execution_count": 66,
     "metadata": {},
     "output_type": "execute_result"
    }
   ],
   "source": [
    "obj1.popitem()"
   ]
  },
  {
   "cell_type": "code",
   "execution_count": 67,
   "metadata": {},
   "outputs": [
    {
     "data": {
      "text/plain": [
       "{'name': 'Muhammad Qasim',\n",
       " 'fname': 'Muhammad Aslam',\n",
       " 'cell': '03152222222',\n",
       " 'id': '077',\n",
       " 'age': 50}"
      ]
     },
     "execution_count": 67,
     "metadata": {},
     "output_type": "execute_result"
    }
   ],
   "source": [
    "obj1"
   ]
  },
  {
   "cell_type": "code",
   "execution_count": 68,
   "metadata": {},
   "outputs": [
    {
     "data": {
      "text/plain": [
       "{'name': 'Muhammad Qasim',\n",
       " 'fname': 'Muhammad Aslam',\n",
       " 'cell': '03152222222',\n",
       " 'id': '077',\n",
       " 'age': 50,\n",
       " 'xyz': 'pak'}"
      ]
     },
     "execution_count": 68,
     "metadata": {},
     "output_type": "execute_result"
    }
   ],
   "source": [
    "obj1.setdefault('xyz','pak')\n",
    "obj1"
   ]
  },
  {
   "cell_type": "code",
   "execution_count": 69,
   "metadata": {},
   "outputs": [
    {
     "data": {
      "text/plain": [
       "{'name': 'Ali',\n",
       " 'fname': 'Muhammad Aslam',\n",
       " 'cell': '03152222222',\n",
       " 'id': '077',\n",
       " 'age': 50,\n",
       " 'xyz': 'pak',\n",
       " 'a': 'A',\n",
       " 'b': 'B'}"
      ]
     },
     "execution_count": 69,
     "metadata": {},
     "output_type": "execute_result"
    }
   ],
   "source": [
    "a1={'a':'A',\n",
    "   'b':'B',\n",
    "   'name':'Ali'}\n",
    "\n",
    "obj1.update(a1)\n",
    "obj1"
   ]
  },
  {
   "cell_type": "code",
   "execution_count": 70,
   "metadata": {},
   "outputs": [
    {
     "data": {
      "text/plain": [
       "{'a', 'b', 'c'}"
      ]
     },
     "execution_count": 70,
     "metadata": {},
     "output_type": "execute_result"
    }
   ],
   "source": [
    "{'a','b','a','c','a'} #set"
   ]
  },
  {
   "cell_type": "code",
   "execution_count": 71,
   "metadata": {},
   "outputs": [
    {
     "data": {
      "text/plain": [
       "{}"
      ]
     },
     "execution_count": 71,
     "metadata": {},
     "output_type": "execute_result"
    }
   ],
   "source": [
    "a1 = {} #empty dictionary\n",
    "a1"
   ]
  },
  {
   "cell_type": "code",
   "execution_count": 72,
   "metadata": {},
   "outputs": [
    {
     "data": {
      "text/plain": [
       "{'name': 'qasim', 'fname': 'Aslam', 'age': 20}"
      ]
     },
     "execution_count": 72,
     "metadata": {},
     "output_type": "execute_result"
    }
   ],
   "source": [
    "a1['name'] = 'qasim'\n",
    "a1['fname'] = 'Aslam'\n",
    "a1['age'] = 20\n",
    "\n",
    "a1"
   ]
  },
  {
   "cell_type": "code",
   "execution_count": 73,
   "metadata": {},
   "outputs": [
    {
     "name": "stdout",
     "output_type": "stream",
     "text": [
      "press 'x' for exit\n",
      "Enter your Nameqasim\n",
      "Father's Name Aslam\n",
      "press 'x' for exit\n",
      "Enter your Namea\n",
      "Father's Name a\n",
      "press 'x' for exit\n",
      "Enter your Nameb\n",
      "Father's Name b\n",
      "press 'x' for exit\n",
      "Enter your Namec\n",
      "Father's Name c\n",
      "press 'x' for exit\n",
      "Enter your Namex\n",
      "Father's Name x\n"
     ]
    }
   ],
   "source": [
    "db = []\n",
    "while True:\n",
    "    print(\"press 'x' for exit\")\n",
    "    name = input(\"Enter your Name\")\n",
    "    fname = input(\"Father's Name \")\n",
    "    r = {}\n",
    "    if name!='x' or fname!='x':\n",
    "        r['name'] = name\n",
    "        r['fname'] = fname\n",
    "        db.append(r)\n",
    "    else:\n",
    "        break\n",
    "        db\n",
    "    "
   ]
  },
  {
   "cell_type": "code",
   "execution_count": 74,
   "metadata": {},
   "outputs": [
    {
     "data": {
      "text/plain": [
       "[{'name': 'qasim', 'fname': 'Aslam'},\n",
       " {'name': 'a', 'fname': 'a'},\n",
       " {'name': 'b', 'fname': 'b'},\n",
       " {'name': 'c', 'fname': 'c'}]"
      ]
     },
     "execution_count": 74,
     "metadata": {},
     "output_type": "execute_result"
    }
   ],
   "source": [
    "db"
   ]
  },
  {
   "cell_type": "markdown",
   "metadata": {},
   "source": [
    "# functions"
   ]
  },
  {
   "cell_type": "code",
   "execution_count": 75,
   "metadata": {},
   "outputs": [
    {
     "name": "stdout",
     "output_type": "stream",
     "text": [
      "Saylani Welfer Trust\n",
      "Bhadra bad\n",
      "Karachi\n",
      "A.I\n"
     ]
    }
   ],
   "source": [
    "print(\"Saylani Welfer Trust\")\n",
    "print(\"Bhadra bad\")\n",
    "print(\"Karachi\")\n",
    "print(\"A.I\")"
   ]
  },
  {
   "cell_type": "code",
   "execution_count": 76,
   "metadata": {},
   "outputs": [
    {
     "name": "stdout",
     "output_type": "stream",
     "text": [
      "Saylani Welfer Trust\n",
      "Bhadra bad\n",
      "Karachi\n",
      "A.I\n"
     ]
    }
   ],
   "source": [
    "print(\"Saylani Welfer Trust\")\n",
    "print(\"Bhadra bad\")\n",
    "print(\"Karachi\")\n",
    "print(\"A.I\")"
   ]
  },
  {
   "cell_type": "markdown",
   "metadata": {},
   "source": [
    "### Defualt function (Aisa function jo apsy koi argument na ly)"
   ]
  },
  {
   "cell_type": "code",
   "execution_count": 77,
   "metadata": {},
   "outputs": [],
   "source": [
    "def info():\n",
    "    print(\"Saylani Welfer Trust\")\n",
    "    print(\"Bhadra bad\")\n",
    "    print(\"Karachi\")\n",
    "    print(\"A.I\")\n",
    "    \n",
    "    "
   ]
  },
  {
   "cell_type": "code",
   "execution_count": 78,
   "metadata": {},
   "outputs": [
    {
     "name": "stdout",
     "output_type": "stream",
     "text": [
      "Saylani Welfer Trust\n",
      "Bhadra bad\n",
      "Karachi\n",
      "A.I\n"
     ]
    }
   ],
   "source": [
    "info()"
   ]
  },
  {
   "cell_type": "code",
   "execution_count": 80,
   "metadata": {},
   "outputs": [
    {
     "name": "stdout",
     "output_type": "stream",
     "text": [
      "Saylani Welfer Trust\n",
      "Bhadra bad\n",
      "Karachi\n",
      "A.I\n"
     ]
    }
   ],
   "source": [
    "info()"
   ]
  },
  {
   "cell_type": "markdown",
   "metadata": {},
   "source": [
    "# Required Arguments"
   ]
  },
  {
   "cell_type": "code",
   "execution_count": 81,
   "metadata": {},
   "outputs": [],
   "source": [
    "def student(name, sid, fname):\n",
    "    abc = \"\"\"\n",
    "    Saylani Welfer Trust\n",
    "    Bhadra bad Karachi\n",
    "    Name: {}\n",
    "    father's Name: {}\n",
    "    Roll no: {}\n",
    "    \"\"\".format(name, fname, sid)\n",
    "    \n",
    "    return abc"
   ]
  },
  {
   "cell_type": "code",
   "execution_count": 82,
   "metadata": {},
   "outputs": [
    {
     "name": "stdout",
     "output_type": "stream",
     "text": [
      "\n",
      "    Saylani Welfer Trust\n",
      "    Bhadra bad Karachi\n",
      "    Name: Ali\n",
      "    father's Name: 007\n",
      "    Roll no: Hamza\n",
      "    \n"
     ]
    }
   ],
   "source": [
    "print(student('Ali','Hamza','007'))"
   ]
  },
  {
   "cell_type": "code",
   "execution_count": 83,
   "metadata": {},
   "outputs": [
    {
     "name": "stdout",
     "output_type": "stream",
     "text": [
      "\n",
      "    Saylani Welfer Trust\n",
      "    Bhadra bad Karachi\n",
      "    Name: Qasim\n",
      "    father's Name: Aslam\n",
      "    Roll no: 0000\n",
      "    \n"
     ]
    }
   ],
   "source": [
    "print(student(name=\"Qasim\",fname=\"Aslam\",sid='0000'))"
   ]
  },
  {
   "cell_type": "code",
   "execution_count": 84,
   "metadata": {},
   "outputs": [],
   "source": [
    "l1 = [{'name':'Ali', 'fname':'Hamza', 'sid':1},\n",
    "     {'name':'Hamza', 'fname':'Hamza2', 'sid':2},\n",
    "     {'name':'Junaid', 'fname':'Hamza3', 'sid':3}]"
   ]
  },
  {
   "cell_type": "code",
   "execution_count": 85,
   "metadata": {},
   "outputs": [
    {
     "name": "stdout",
     "output_type": "stream",
     "text": [
      "\n",
      "    Saylani Welfer Trust\n",
      "    Bhadra bad Karachi\n",
      "    Name: Ali\n",
      "    father's Name: Hamza\n",
      "    Roll no: 1\n",
      "    \n",
      "\n",
      "    Saylani Welfer Trust\n",
      "    Bhadra bad Karachi\n",
      "    Name: Hamza\n",
      "    father's Name: Hamza2\n",
      "    Roll no: 2\n",
      "    \n",
      "\n",
      "    Saylani Welfer Trust\n",
      "    Bhadra bad Karachi\n",
      "    Name: Junaid\n",
      "    father's Name: Hamza3\n",
      "    Roll no: 3\n",
      "    \n"
     ]
    }
   ],
   "source": [
    "for d in l1:\n",
    "    print(student(**d))"
   ]
  },
  {
   "cell_type": "code",
   "execution_count": 86,
   "metadata": {},
   "outputs": [
    {
     "name": "stdout",
     "output_type": "stream",
     "text": [
      "nameAli\n",
      "sid1\n",
      "\n",
      "    Saylani Welfer Trust\n",
      "    Bhadra bad Karachi\n",
      "    Name: Ali\n",
      "    father's Name: Hamza\n",
      "    Roll no: 1\n",
      "    \n",
      "Valid user\n"
     ]
    }
   ],
   "source": [
    "a1 = input(\"name\")\n",
    "a2 = int(input(\"sid\"))\n",
    "for d in l1:\n",
    "    if d['name']==a1 and d['sid']==a2:\n",
    "        print(student(**d))\n",
    "        print(\"Valid user\")\n",
    "        break\n",
    "    else:\n",
    "        print(\"Invalid user\")"
   ]
  },
  {
   "cell_type": "code",
   "execution_count": 87,
   "metadata": {},
   "outputs": [
    {
     "name": "stdout",
     "output_type": "stream",
     "text": [
      "\n",
      "    Saylani Welfer Trust\n",
      "    Bhadra bad Karachi\n",
      "    Name: qasim\n",
      "    father's Name: 3\n",
      "    Roll no: aslam\n",
      "    \n"
     ]
    }
   ],
   "source": [
    "print(student('qasim','aslam','3')) #sequance args"
   ]
  },
  {
   "cell_type": "code",
   "execution_count": 88,
   "metadata": {},
   "outputs": [
    {
     "name": "stdout",
     "output_type": "stream",
     "text": [
      "\n",
      "    Saylani Welfer Trust\n",
      "    Bhadra bad Karachi\n",
      "    Name: qasim\n",
      "    father's Name: Aslam\n",
      "    Roll no: 7\n",
      "    \n"
     ]
    }
   ],
   "source": [
    "print(student(name='qasim',sid=7, fname='Aslam'))# key=value args"
   ]
  },
  {
   "cell_type": "code",
   "execution_count": 89,
   "metadata": {},
   "outputs": [
    {
     "name": "stdout",
     "output_type": "stream",
     "text": [
      "\n",
      "    Saylani Welfer Trust\n",
      "    Bhadra bad Karachi\n",
      "    Name: qasim\n",
      "    father's Name: 7\n",
      "    Roll no: aslam\n",
      "    \n"
     ]
    }
   ],
   "source": [
    "l1 = ['qasim','aslam',7]\n",
    "print(student(*l1))"
   ]
  },
  {
   "cell_type": "code",
   "execution_count": 90,
   "metadata": {},
   "outputs": [
    {
     "name": "stdout",
     "output_type": "stream",
     "text": [
      "\n",
      "    Saylani Welfer Trust\n",
      "    Bhadra bad Karachi\n",
      "    Name: qasim\n",
      "    father's Name: Aslam\n",
      "    Roll no: 27\n",
      "    \n"
     ]
    }
   ],
   "source": [
    "l2 = {'name':'qasim', 'fname':'Aslam','sid':27}\n",
    "print(student(**l2))"
   ]
  },
  {
   "cell_type": "code",
   "execution_count": 91,
   "metadata": {},
   "outputs": [
    {
     "name": "stdout",
     "output_type": "stream",
     "text": [
      "1\n",
      "8\n",
      "18\n",
      "20\n"
     ]
    }
   ],
   "source": [
    "def abc(a=0, b=0, c=0):\n",
    "    return a + b + c\n",
    "\n",
    "print(abc(1))\n",
    "print(abc(1,7))\n",
    "print(abc(1,8,9))\n",
    "print(abc(c=20))"
   ]
  },
  {
   "cell_type": "code",
   "execution_count": 92,
   "metadata": {},
   "outputs": [
    {
     "ename": "TypeError",
     "evalue": "abc() takes from 0 to 3 positional arguments but 7 were given",
     "output_type": "error",
     "traceback": [
      "\u001b[0;31m---------------------------------------------------------------------------\u001b[0m",
      "\u001b[0;31mTypeError\u001b[0m                                 Traceback (most recent call last)",
      "\u001b[0;32m<ipython-input-92-65bcd561930c>\u001b[0m in \u001b[0;36m<module>\u001b[0;34m\u001b[0m\n\u001b[0;32m----> 1\u001b[0;31m \u001b[0mabc\u001b[0m\u001b[0;34m(\u001b[0m\u001b[0;36m1\u001b[0m\u001b[0;34m,\u001b[0m\u001b[0;36m8\u001b[0m\u001b[0;34m,\u001b[0m\u001b[0;36m9\u001b[0m\u001b[0;34m,\u001b[0m\u001b[0;36m0\u001b[0m\u001b[0;34m,\u001b[0m\u001b[0;36m20\u001b[0m\u001b[0;34m,\u001b[0m\u001b[0;36m78\u001b[0m\u001b[0;34m,\u001b[0m\u001b[0;36m89\u001b[0m\u001b[0;34m)\u001b[0m\u001b[0;34m\u001b[0m\u001b[0;34m\u001b[0m\u001b[0m\n\u001b[0m",
      "\u001b[0;31mTypeError\u001b[0m: abc() takes from 0 to 3 positional arguments but 7 were given"
     ]
    }
   ],
   "source": [
    "abc(1,8,9,0,20,78,89)"
   ]
  },
  {
   "cell_type": "code",
   "execution_count": 93,
   "metadata": {},
   "outputs": [],
   "source": [
    "def abc(*a):\n",
    "    return sum(a)"
   ]
  },
  {
   "cell_type": "code",
   "execution_count": 94,
   "metadata": {},
   "outputs": [
    {
     "name": "stdout",
     "output_type": "stream",
     "text": [
      "34\n",
      "1\n",
      "19\n"
     ]
    }
   ],
   "source": [
    "print(abc(1,7,9,10,7))\n",
    "print(abc(1))\n",
    "print(abc(2,8,9))"
   ]
  },
  {
   "cell_type": "code",
   "execution_count": 95,
   "metadata": {},
   "outputs": [
    {
     "name": "stdout",
     "output_type": "stream",
     "text": [
      "user:  qasim\n",
      "fname: aslam\n",
      "62\n"
     ]
    }
   ],
   "source": [
    "def abc(name,fname, *a):\n",
    "    print(\"user: \", name)\n",
    "    print(\"fname:\",fname)\n",
    "    print(sum(a))\n",
    "    \n",
    "abc('qasim', 'aslam', 27,8,9,7,6,5)"
   ]
  },
  {
   "cell_type": "code",
   "execution_count": 96,
   "metadata": {},
   "outputs": [
    {
     "name": "stdout",
     "output_type": "stream",
     "text": [
      "{'name': 'qasim', 'fname': 'ali'}\n",
      "None\n",
      "{'a': 'aa', 'b': 'cc'}\n",
      "None\n"
     ]
    }
   ],
   "source": [
    "def abc(**d):\n",
    "    print(d)\n",
    "    \n",
    "print(abc(name='qasim', fname='ali'))\n",
    "print(abc(a='aa', b='cc'))"
   ]
  },
  {
   "cell_type": "code",
   "execution_count": 97,
   "metadata": {},
   "outputs": [
    {
     "data": {
      "text/plain": [
       "{'name': 'Ali',\n",
       " 'fname': 'Muhammad Aslam',\n",
       " 'cell': '03152222222',\n",
       " 'id': '077',\n",
       " 'age': 50,\n",
       " 'xyz': 'pak',\n",
       " 'a': 'A',\n",
       " 'b': 'B'}"
      ]
     },
     "execution_count": 97,
     "metadata": {},
     "output_type": "execute_result"
    }
   ],
   "source": [
    "obj1"
   ]
  },
  {
   "cell_type": "code",
   "execution_count": null,
   "metadata": {},
   "outputs": [],
   "source": [
    "data = [{'name' : 'Mehran', 'fname': 'Kamal', 'pass': True},\n",
    "       {'name' : 'Ali', 'fname': 'Kamal', 'pass': True},\n",
    "        {'name' : 'Azhar', 'fname': 'Kamal', 'pass': True},\n",
    "{'name' : 'Irfan', 'fname': 'Kamal', 'pass': False},\n",
    "{'name' : 'Aslam', 'fname': 'Kamal', 'pass': False}\n",
    "       ]\n",
    "registered = []\n",
    "ind  = data.copy()\n",
    "i = 0\n",
    "l1 = []\n",
    "for x in data:\n",
    "    ind  = data.copy()\n",
    "    if x['pass'] == True:\n",
    "        registered.append(data[i])\n",
    "    else:\n",
    "        l1.append(ind.pop(i))    \n",
    "    i+=1\n",
    "data = l1\n",
    "# data.pop(*ind)\n",
    "\n",
    "\n",
    "print(\"Registered Students\")\n",
    "for i in registered:\n",
    "    print(i['name'])\n",
    "    print(i['fname'])\n",
    "    print(\"Parring Status:\", i['pass'])\n",
    "    print()"
   ]
  },
  {
   "cell_type": "code",
   "execution_count": null,
   "metadata": {},
   "outputs": [],
   "source": [
    "data"
   ]
  },
  {
   "cell_type": "code",
   "execution_count": null,
   "metadata": {},
   "outputs": [],
   "source": [
    "ind"
   ]
  },
  {
   "cell_type": "code",
   "execution_count": null,
   "metadata": {},
   "outputs": [],
   "source": []
  }
 ],
 "metadata": {
  "kernelspec": {
   "display_name": "Python 3",
   "language": "python",
   "name": "python3"
  },
  "language_info": {
   "codemirror_mode": {
    "name": "ipython",
    "version": 3
   },
   "file_extension": ".py",
   "mimetype": "text/x-python",
   "name": "python",
   "nbconvert_exporter": "python",
   "pygments_lexer": "ipython3",
   "version": "3.7.1"
  }
 },
 "nbformat": 4,
 "nbformat_minor": 2
}
